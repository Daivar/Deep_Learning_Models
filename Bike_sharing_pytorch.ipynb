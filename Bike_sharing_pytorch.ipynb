{
  "nbformat": 4,
  "nbformat_minor": 0,
  "metadata": {
    "colab": {
      "name": "Bike_sharing_pytorch.ipynb",
      "private_outputs": true,
      "provenance": [],
      "authorship_tag": "ABX9TyNhJptVfI80jy+IA8wiANl1",
      "include_colab_link": true
    },
    "kernelspec": {
      "name": "python3",
      "display_name": "Python 3"
    },
    "language_info": {
      "name": "python"
    }
  },
  "cells": [
    {
      "cell_type": "markdown",
      "metadata": {
        "id": "view-in-github",
        "colab_type": "text"
      },
      "source": [
        "<a href=\"https://colab.research.google.com/github/Daivar/Deep_Learning_Models/blob/main/Bike_sharing_pytorch.ipynb\" target=\"_parent\"><img src=\"https://colab.research.google.com/assets/colab-badge.svg\" alt=\"Open In Colab\"/></a>"
      ]
    },
    {
      "cell_type": "code",
      "execution_count": null,
      "metadata": {
        "id": "q6RDbyoG-GbO"
      },
      "outputs": [],
      "source": [
        "# https://www.kaggle.com/marklvl/bike-sharing-dataset\n",
        "# !wget https://www.kaggle.com/marklvl/bike-sharing-dataset/download -O data.zip # need to add auth data\n",
        "!wget https://github.com/MindaugasBernatavicius/DeepLearningCourse/raw/master/06_Regression_with_Neural_Networks_and_Tabular_Data/28865_36778_bundle_archive.zip \n",
        "\n",
        "!unzip -n *archive.zip\n",
        "# !rm -rf bike-sharing-dataset/\n",
        "!rm -f *.txt *.csv\n",
        "!rm -f my_model"
      ]
    },
    {
      "cell_type": "code",
      "source": [
        "import pandas as pd\n",
        "import torch\n",
        "import sklearn\n",
        "import numpy as np\n",
        "import seaborn as sns\n",
        "import matplotlib.pyplot as plt\n",
        "import torch.utils.data as data_utils \n",
        "from sklearn.model_selection import train_test_split\n",
        "from sklearn.metrics import mean_absolute_error\n",
        "\n",
        "data = pd.read_csv('./bike-sharing-dataset/hour.csv', index_col=0)\n",
        "data[\"season\"].replace({1: \"spring\", 2: \"summer\", 3: \"fall\", 4: \"winter\"}, inplace=True)\n",
        "data.head()\n",
        "\n",
        "data = pd.get_dummies(data, columns= ['season'])\n",
        "data.sample(5)"
      ],
      "metadata": {
        "id": "hxc-NbdH-ZX9"
      },
      "execution_count": null,
      "outputs": []
    },
    {
      "cell_type": "code",
      "source": [
        "# data prep\n",
        "columns = ['registered', 'holiday', 'weekday', \n",
        "           'weathersit', 'temp', 'atemp',\n",
        "           'season_fall', 'season_spring', \n",
        "           'season_summer', 'season_winter']\n",
        "\n",
        "features = data[columns]\n",
        "target = data[['cnt']]\n",
        "\n",
        "X_train, x_test, Y_train, y_test = train_test_split(features, target, test_size=0.2)\n",
        "\n",
        "X_train_tensor = torch.tensor(X_train.values, dtype = torch.float)\n",
        "x_test_tensor = torch.tensor(x_test.values, dtype = torch.float)\n",
        "\n",
        "Y_train_tensor = torch.tensor(Y_train.values, dtype = torch.float)\n",
        "y_test_tensor = torch.tensor(y_test.values, dtype = torch.float)\n",
        "\n",
        "\n",
        "\n",
        "# model\n",
        "inp = X_train_tensor.shape[1]\n",
        "out = 1\n",
        "hid = 10\n",
        "loss_fn = torch.nn.MSELoss()\n",
        "batch_size = 10\n",
        "shuffle = True\n",
        "\n",
        "train_data = data_utils.TensorDataset(X_train_tensor, Y_train_tensor)\n",
        "train_loader = data_utils.DataLoader(train_data, batch_size=batch_size, shuffle=shuffle)\n",
        "\n",
        "\n",
        "# model = torch.nn.Sequential(torch.nn.Linear(inp, hid),\n",
        "#                             torch.nn.Linear(hid, out))\n",
        "\n",
        "model = torch.nn.Sequential(torch.nn.Linear(inp, hid),\n",
        "                            torch.nn.ReLU(),\n",
        "                            torch.nn.Linear(hid, out))\n",
        "\n",
        "# model = torch.nn.Sequential(torch.nn.Linear(inp, hid),\n",
        "#                             torch.nn.ReLU(),\n",
        "#                             torch.nn.Dropout(p=0.2),\n",
        "#                             torch.nn.Linear(hid, out))\n",
        "\n",
        "# model = torch.nn.Sequential(torch.nn.Linear(inp, hid),\n",
        "#                             torch.nn.Sigmoid(),\n",
        "#                             torch.nn.Linear(hid, out))\n",
        "\n",
        "optimizer = torch.optim.Adam(model.parameters(), lr=0.001)\n",
        "total_step = len(train_loader)\n",
        "\n",
        "# train loop\n",
        "num_epochs = 10\n",
        "for epoch in range(num_epochs + 1):\n",
        "    for i, (features, target) in enumerate(train_loader):\n",
        "        output = model(features)        # get predictions of the current model\n",
        "        loss = loss_fn(output, target)  # calculate the loss: y vs. y_hat \n",
        "        optimizer.zero_grad()           # nulify previous gradients\n",
        "        loss.backward()                 # perform backprop\n",
        "        optimizer.step()                # perform weight updates\n",
        "        \n",
        "        if epoch % 10 == 0:\n",
        "            print ('Epoch [{}/{}], Step [{}/{}], Loss: {:.4f}' .format(epoch+1, num_epochs, i+1, total_step, loss.item()))"
      ],
      "metadata": {
        "id": "jAhsZPYt-ltx"
      },
      "execution_count": null,
      "outputs": []
    },
    {
      "cell_type": "code",
      "source": [
        "model.eval()\n",
        "with torch.no_grad():\n",
        "    y_pred_tensor = model(x_test_tensor)\n",
        "\n",
        "y_pred = y_pred_tensor.detach().numpy()\n",
        "compare_df = pd.DataFrame({'actual': np.squeeze(y_test.values), 'predicted': np.squeeze(y_pred)})\n",
        "compare_df.sample(20)\n",
        "\n",
        "print(sklearn.metrics.r2_score(y_test, y_pred))\n",
        "print(mean_absolute_error(y_test, y_pred))"
      ],
      "metadata": {
        "id": "s5ropO1s-ndj"
      },
      "execution_count": null,
      "outputs": []
    }
  ]
}