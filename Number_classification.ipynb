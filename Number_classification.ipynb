{
  "nbformat": 4,
  "nbformat_minor": 0,
  "metadata": {
    "colab": {
      "name": "Number_classification.ipynb",
      "provenance": [],
      "authorship_tag": "ABX9TyNi/m2G1Um8zcHqeiZCBlVV",
      "include_colab_link": true
    },
    "kernelspec": {
      "name": "python3",
      "display_name": "Python 3"
    },
    "language_info": {
      "name": "python"
    }
  },
  "cells": [
    {
      "cell_type": "markdown",
      "metadata": {
        "id": "view-in-github",
        "colab_type": "text"
      },
      "source": [
        "<a href=\"https://colab.research.google.com/github/Daivar/Deep_Learning_Models/blob/main/Number_classification.ipynb\" target=\"_parent\"><img src=\"https://colab.research.google.com/assets/colab-badge.svg\" alt=\"Open In Colab\"/></a>"
      ]
    },
    {
      "cell_type": "code",
      "execution_count": 1,
      "metadata": {
        "id": "QH5I6Vbyqj40"
      },
      "outputs": [],
      "source": [
        "import pandas as pd\n",
        "import numpy as np\n",
        "import matplotlib.pyplot as plt\n",
        "import torch\n",
        "import torchvision\n",
        "import torch.nn as nn\n",
        "import torch.nn.functional as F\n",
        "from torch.utils.data import DataLoader, TensorDataset"
      ]
    },
    {
      "cell_type": "code",
      "source": [
        "!rm -rf ./datasets/images/\n",
        "\n",
        "!wget -q --directory-prefix='datasets/mnist-in-csv/' https://github.com/MindaugasBernatavicius/DeepLearningCourse/raw/master/07_Computer_Vision_Image_Classification/datasets/mnist-in-csv/mnist_test.csv\n",
        "!wget -q --directory-prefix='datasets/mnist-in-csv/' https://github.com/MindaugasBernatavicius/DeepLearningCourse/raw/master/07_Computer_Vision_Image_Classification/datasets/mnist-in-csv/mnist_train.csv\n",
        "\n",
        "mnist_train = pd.read_csv('datasets/mnist-in-csv/mnist_train.csv')\n",
        "mnist_test = pd.read_csv('datasets/mnist-in-csv/mnist_test.csv')"
      ],
      "metadata": {
        "id": "r0L3lhzhqvDp"
      },
      "execution_count": 2,
      "outputs": []
    },
    {
      "cell_type": "code",
      "source": [
        "mnist_train = mnist_train.dropna()\n",
        "mnist_test = mnist_test.dropna()\n",
        "\n",
        "mnist_train_features = mnist_train.drop('label', axis =1)\n",
        "mnist_train_target = mnist_train['label']\n",
        "mnist_test_features = mnist_test.drop('label', axis =1)\n",
        "mnist_test_target = mnist_test['label']\n",
        "\n",
        "X_train_tensor = torch.tensor(mnist_train_features.values, dtype=torch.float)\n",
        "x_test_tensor  = torch.tensor(mnist_test_features.values, dtype=torch.float) \n",
        "Y_train_tensor = torch.tensor(mnist_train_target.values, dtype=torch.long)\n",
        "y_test_tensor  = torch.tensor(mnist_test_target.values, dtype=torch.long)\n",
        "\n",
        "X_train_tensor = X_train_tensor.reshape(-1, 1, 28, 28)\n",
        "x_test_tensor = x_test_tensor.reshape(-1, 1, 28, 28)\n",
        "\n",
        "in_size = 1 # channel size\n",
        "hid1_size = 32 #Re-run for 32\n",
        "hid2_size = 32 #Re-run for 64\n",
        "out_size = 10 # categories\n",
        "k_conv_size = 5 # size of kernel\n",
        "p_kern_size = 2\n",
        "batch_size = 128\n",
        "ll_in_size = 512 # 256 --> RuntimeError: mat1 and mat2 shapes cannot be multiplied (128x512 and 256x10)\n",
        "\n",
        "class ConvNet(nn.Module):\n",
        "  def __init__(self):\n",
        "    super(ConvNet, self).__init__()\n",
        "    self.layer1 = nn.Sequential(\n",
        "      nn.Conv2d(in_size, hid1_size, k_conv_size),\n",
        "      nn.BatchNorm2d(hid1_size),\n",
        "      nn.ReLU(),\n",
        "      nn.MaxPool2d(kernel_size=p_kern_size)\n",
        "    )\n",
        "    self.layer2 = nn.Sequential(\n",
        "      nn.Conv2d(hid1_size, hid2_size, k_conv_size),\n",
        "      nn.BatchNorm2d(hid2_size),\n",
        "      nn.ReLU(),\n",
        "      nn.MaxPool2d(kernel_size=p_kern_size),\n",
        "      nn.Flatten()\n",
        "    )\n",
        "    self.fc = nn.Linear(ll_in_size, out_size)\n",
        " \n",
        "  def forward(self, x):\n",
        "    out = self.layer1(x)\n",
        "    out = self.layer2(out)\n",
        "    # out = out.reshape(out.size(0), -1) # you either reshape or need nn.Flatten()\n",
        "    out = self.fc(out)\n",
        "    return out\n",
        "    # return F.log_softmax(out, dim=-1) # we will use this latter\n",
        "\n",
        "\n",
        "model = ConvNet()\n",
        "device = torch.device(\"cuda:0\" if torch.cuda.is_available() else \"cpu\")\n",
        "model.to(device)\n",
        "\n",
        "X_train_tensor = X_train_tensor.to(device)\n",
        "x_test_tensor  = x_test_tensor.to(device) \n",
        "Y_train_tensor = Y_train_tensor.to(device)\n",
        "y_test_tensor  = y_test_tensor.to(device)\n",
        "train_dataset = TensorDataset(X_train_tensor, Y_train_tensor)\n",
        "train_loader = DataLoader(train_dataset, batch_size=batch_size)\n",
        "\n",
        "learning_rate = 0.001 \n",
        "criterion = nn.CrossEntropyLoss()\n",
        "# criterion = #nn.NLLLoss()\n",
        "optimizer = torch.optim.Adam(model.parameters(), lr=learning_rate) \n",
        "#optimizer = torch.optim.SGD(model.parameters(), lr=learning_rate, momentum=0.9) \n",
        "\n",
        "num_epochs = 10\n",
        "loss_values = list()\n",
        "\n",
        "for epoch in range(1, num_epochs):\n",
        "  for x, y in train_loader:\n",
        "    outputs = model(x)\n",
        "    loss = criterion(outputs, y)\n",
        "    optimizer.zero_grad()\n",
        "    loss.backward()\n",
        "    optimizer.step()\n",
        "    loss_values.append(loss.item())  \n",
        "  print('Epoch - %d, loss - %0.5f '%(epoch, loss.item())) \n",
        "  # loss_values.append(loss.item())"
      ],
      "metadata": {
        "colab": {
          "base_uri": "https://localhost:8080/"
        },
        "id": "CYYzy4p-q9BJ",
        "outputId": "b52e5a17-f154-4777-f592-14176ecb8c4a"
      },
      "execution_count": 4,
      "outputs": [
        {
          "output_type": "stream",
          "name": "stdout",
          "text": [
            "Epoch - 1, loss - 0.06076 \n",
            "Epoch - 2, loss - 0.04218 \n",
            "Epoch - 3, loss - 0.02716 \n",
            "Epoch - 4, loss - 0.01756 \n",
            "Epoch - 5, loss - 0.01009 \n",
            "Epoch - 6, loss - 0.00796 \n",
            "Epoch - 7, loss - 0.00646 \n",
            "Epoch - 8, loss - 0.00622 \n",
            "Epoch - 9, loss - 0.00280 \n"
          ]
        }
      ]
    },
    {
      "cell_type": "code",
      "source": [
        "portion_size = 200\n",
        "x = (range(0, len(loss_values[:portion_size])))\n",
        "\n",
        "plt.figure(figsize = (8, 8))\n",
        "plt.plot(x, loss_values[:portion_size])\n",
        "plt.xlabel('Epoch')\n",
        "plt.ylabel('Loss')"
      ],
      "metadata": {
        "colab": {
          "base_uri": "https://localhost:8080/",
          "height": 513
        },
        "id": "8xCFHNO5wCti",
        "outputId": "f2a97849-2a5c-49b3-8a78-9ade5f4eabb6"
      },
      "execution_count": 5,
      "outputs": [
        {
          "output_type": "execute_result",
          "data": {
            "text/plain": [
              "Text(0, 0.5, 'Loss')"
            ]
          },
          "metadata": {},
          "execution_count": 5
        },
        {
          "output_type": "display_data",
          "data": {
            "image/png": "[encoded data removed]",
            "text/plain": [
              "<Figure size 576x576 with 1 Axes>"
            ]
          },
          "metadata": {
            "needs_background": "light"
          }
        }
      ]
    },
    {
      "cell_type": "code",
      "source": [
        "!wget -q --directory-prefix='./' https://github.com/MindaugasBernatavicius/DeepLearningCourse/raw/master/07_Computer_Vision_Image_Classification/datasets/cust_img_of_3.jpg\n",
        "# !wget -q --directory-prefix='./' https://github.com/MindaugasBernatavicius/DeepLearningCourse/raw/master/07_Computer_Vision_Image_Classification/datasets/cust_img_of_1.jpg"
      ],
      "metadata": {
        "id": "czTHlr4gwKxS"
      },
      "execution_count": 9,
      "outputs": []
    },
    {
      "cell_type": "code",
      "source": [
        "import PIL.ImageOps\n",
        "from PIL import Image, ImageEnhance \n",
        "import matplotlib.image as mpimg\n",
        "import matplotlib.pyplot as plt\n",
        "import skimage.transform\n",
        "import skimage.io\n",
        "from skimage import data\n",
        "\n",
        "def increase_whites_by_threshold(img, threshold):\n",
        "  if type(img) is not np.ndarray:\n",
        "    img = np.array(img)\n",
        "  for line in range(0, len(img)):\n",
        "    for pixel in range(0, len(img[line])):\n",
        "      img[line][pixel] = 1 if img[line][pixel] > threshold else 0\n",
        "  return img\n",
        "\n",
        "i = \"cust_img_of_3.jpg\"\n",
        "i = Image.open(i)\n",
        "\n",
        "\n",
        "i = i.resize((28, 28))\n",
        "i = PIL.ImageOps.invert(i)\n",
        "# enhancer = ImageEnhance.Contrast(i)\n",
        "# i = enhancer.enhance(1.5) # 0.9\n",
        "i = skimage.color.rgb2gray(np.asarray(i))\n",
        "# i = increase_whites_by_threshold(i, 0.7)\n",
        "\n",
        "if type(i) is not np.ndarray:\n",
        "  i = np.array(i)\n",
        "\n",
        "plt.imshow(i, cmap='gray')\n",
        "\n",
        "image_t = torch.from_numpy(i).float()\n",
        "image_t = image_t.reshape(-1, 1, 28, 28)\n",
        "image_t = image_t.to(device)\n",
        "\n",
        "y_pred = model(image_t)\n",
        "print(y_pred)\n",
        "_, predicted = torch.max(y_pred.data, -1)\n",
        "print(\"The predicted label is : \", predicted.item())"
      ],
      "metadata": {
        "colab": {
          "base_uri": "https://localhost:8080/",
          "height": 317
        },
        "id": "m7w6I4y0wR5h",
        "outputId": "31d862d0-fc58-44ce-bde0-779896f0cd76"
      },
      "execution_count": 10,
      "outputs": [
        {
          "output_type": "stream",
          "name": "stdout",
          "text": [
            "tensor([[ -7.1044, -10.3320,  -7.5263,   6.1669,  -8.0177,  -2.6964, -12.9075,\n",
            "          -9.2382,  -8.1173,  -3.7322]], grad_fn=<AddmmBackward0>)\n",
            "The predicted label is :  3\n"
          ]
        },
        {
          "output_type": "display_data",
          "data": {
            "image/png": "[encoded data removed]",
            "text/plain": [
              "<Figure size 432x288 with 1 Axes>"
            ]
          },
          "metadata": {
            "needs_background": "light"
          }
        }
      ]
    }
  ]
}