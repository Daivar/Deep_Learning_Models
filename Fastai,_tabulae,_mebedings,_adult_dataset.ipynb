{
  "nbformat": 4,
  "nbformat_minor": 0,
  "metadata": {
    "colab": {
      "name": "Fastai, tabulae, mebedings, adult dataset.ipynb",
      "private_outputs": true,
      "provenance": [],
      "authorship_tag": "ABX9TyM5ixxJsspwjL9aTNDSsxvu",
      "include_colab_link": true
    },
    "kernelspec": {
      "name": "python3",
      "display_name": "Python 3"
    },
    "language_info": {
      "name": "python"
    }
  },
  "cells": [
    {
      "cell_type": "markdown",
      "metadata": {
        "id": "view-in-github",
        "colab_type": "text"
      },
      "source": [
        "<a href=\"https://colab.research.google.com/github/Daivar/Deep_Learning_Models/blob/main/Fastai%2C_tabulae%2C_mebedings%2C_adult_dataset.ipynb\" target=\"_parent\"><img src=\"https://colab.research.google.com/assets/colab-badge.svg\" alt=\"Open In Colab\"/></a>"
      ]
    },
    {
      "cell_type": "code",
      "execution_count": null,
      "metadata": {
        "id": "H27eiwEGSe3q"
      },
      "outputs": [],
      "source": [
        "from fastai.tabular import *\n",
        "\n",
        "df = pd.DataFrame({'col1': ['02/03/2017', '02/04/2017', '02/05/2017'], 'col2': ['a', 'b', 'a']})\n",
        "df"
      ]
    },
    {
      "cell_type": "code",
      "source": [
        "add_datepart(df, 'col1') # inplace\n",
        "df.head()"
      ],
      "metadata": {
        "id": "Nc-Es1BOSiXn"
      },
      "execution_count": null,
      "outputs": []
    },
    {
      "cell_type": "markdown",
      "source": [
        "### Splitai (continues categorical split)"
      ],
      "metadata": {
        "id": "fHOS29MsSv7n"
      }
    },
    {
      "cell_type": "code",
      "source": [
        "df = pd.DataFrame({'col1': [1.0, 2.0, 3.0], 'col2': ['a', 'b', 'a'], 'col3': [0.5, 1.2, 7.5], 'col4': ['ab', 'o', 'o']})\n",
        "df"
      ],
      "metadata": {
        "id": "G91xQkyCStjV"
      },
      "execution_count": null,
      "outputs": []
    },
    {
      "cell_type": "code",
      "source": [
        "cont_list, cat_list = cont_cat_split(df=df, max_card=20, dep_var='col4')\n",
        "cont_list, cat_list"
      ],
      "metadata": {
        "id": "Vo0WTkY0S6E-"
      },
      "execution_count": null,
      "outputs": []
    },
    {
      "cell_type": "markdown",
      "source": [
        "### Fast.ai tabular"
      ],
      "metadata": {
        "id": "UVrh-YOiTC7u"
      }
    },
    {
      "cell_type": "code",
      "source": [
        "from fastai.tabular import *\n",
        "\n",
        "!rm -rf ./sample_data/ ./data/\n",
        "\n",
        "path = untar_data(URLs.ADULT_SAMPLE)\n",
        "df = pd.read_csv(path/'adult.csv')"
      ],
      "metadata": {
        "id": "PinjHJU3TNiu"
      },
      "execution_count": null,
      "outputs": []
    },
    {
      "cell_type": "code",
      "source": [
        "df"
      ],
      "metadata": {
        "id": "T4JAQRB3TrEw"
      },
      "execution_count": null,
      "outputs": []
    },
    {
      "cell_type": "code",
      "source": [
        "df.head"
      ],
      "metadata": {
        "id": "JbvvctRMTR6G"
      },
      "execution_count": null,
      "outputs": []
    },
    {
      "cell_type": "code",
      "source": [
        "df.dtypes"
      ],
      "metadata": {
        "id": "ufh79621Td-2"
      },
      "execution_count": null,
      "outputs": []
    },
    {
      "cell_type": "code",
      "source": [
        "dep_var = 'salary'\n",
        "\n",
        "# separate all the variables that will need to be encoded\n",
        "cat_names = ['workclass', 'education', 'marital-status', 'occupation', 'relationship', 'race']\n",
        "\n",
        "# continuous variables will not need to be encoded\n",
        "cont_names = ['age', 'fnlwgt', 'education-num']\n",
        "\n",
        "# define the procedures we will do\n",
        "procs = [FillMissing, Categorify]\n"
      ],
      "metadata": {
        "id": "G0_5AeZQTf1B"
      },
      "execution_count": null,
      "outputs": []
    },
    {
      "cell_type": "code",
      "source": [
        "test = TabularList.from_df(df.iloc[800:1000].copy(), path=path, cat_names=cat_names, cont_names=cont_names)\n",
        "\n",
        "# path is just the working directory where temporary files/models will be saved.\n",
        "# ... ref: https://forums.fast.ai/t/looking-for-documentation-on-path-argument-in-tabulardatabunch-from-df/34999/2"
      ],
      "metadata": {
        "id": "hk_aW4auT3aE"
      },
      "execution_count": null,
      "outputs": []
    },
    {
      "cell_type": "code",
      "source": [
        "test"
      ],
      "metadata": {
        "id": "rQFctN7XU4A1"
      },
      "execution_count": null,
      "outputs": []
    },
    {
      "cell_type": "code",
      "source": [
        "data = (TabularList.from_df(df, path=path, cat_names=cat_names, cont_names=cont_names, procs=procs)\n",
        "                           .split_by_idx(list(range(800,1000)))\n",
        "                           .label_from_df(cols=dep_var)\n",
        "                           .add_test(test)\n",
        "                           .databunch())"
      ],
      "metadata": {
        "id": "w2d8XAnlT6ge"
      },
      "execution_count": null,
      "outputs": []
    },
    {
      "cell_type": "code",
      "source": [
        "data.show_batch(rows=100)"
      ],
      "metadata": {
        "id": "Lz1HvOIFU-7-"
      },
      "execution_count": null,
      "outputs": []
    },
    {
      "cell_type": "code",
      "source": [
        "compare\n",
        "list(df.head(100)['occupation'])\n",
        "data.show_batch\n"
      ],
      "metadata": {
        "id": "lQzrG8aeVFrl"
      },
      "execution_count": null,
      "outputs": []
    },
    {
      "cell_type": "code",
      "source": [
        "learn = tabular_learner(data, layers=[5, 5], metrics=accuracy)"
      ],
      "metadata": {
        "id": "Z1mNShHFVWCX"
      },
      "execution_count": null,
      "outputs": []
    },
    {
      "cell_type": "code",
      "source": [
        "learn = tabular_learner(data, layers=[5, 5, 5], metrics=accuracy)"
      ],
      "metadata": {
        "id": "WGi4mwzyYN4A"
      },
      "execution_count": null,
      "outputs": []
    },
    {
      "cell_type": "code",
      "source": [
        "# fit(number_of_epochs, learning_rate)\n",
        "learn.fit(5, 1e-2)"
      ],
      "metadata": {
        "id": "x3GX9-8QVmBX"
      },
      "execution_count": null,
      "outputs": []
    },
    {
      "cell_type": "code",
      "source": [
        "# vizualize the model\n",
        "learn.model"
      ],
      "metadata": {
        "id": "XGOAs4iaV2Sw"
      },
      "execution_count": null,
      "outputs": []
    },
    {
      "cell_type": "markdown",
      "source": [
        "### 6 embedings were created for our categorical features"
      ],
      "metadata": {
        "id": "m-bKj11nWXY2"
      }
    },
    {
      "cell_type": "markdown",
      "source": [
        "### Random Forest"
      ],
      "metadata": {
        "id": "Tzu_LZWlV9Rx"
      }
    },
    {
      "cell_type": "code",
      "source": [
        "import pandas as pd\n",
        "from fastai.tabular import *\n",
        "from sklearn.ensemble import RandomForestClassifier"
      ],
      "metadata": {
        "id": "DeweaNZVV-69"
      },
      "execution_count": null,
      "outputs": []
    },
    {
      "cell_type": "code",
      "source": [
        "path = untar_data(URLs.ADULT_SAMPLE)\n",
        "df = pd.read_csv(path/'adult.csv')"
      ],
      "metadata": {
        "id": "xjk__wCFWDOn"
      },
      "execution_count": null,
      "outputs": []
    },
    {
      "cell_type": "code",
      "source": [
        "len(np.unique(df['education']))"
      ],
      "metadata": {
        "id": "fqwbn9bgYnP-"
      },
      "execution_count": null,
      "outputs": []
    },
    {
      "cell_type": "code",
      "source": [
        "print(np.unique(df['education']))"
      ],
      "metadata": {
        "id": "AZ7XALKmZNwN"
      },
      "execution_count": null,
      "outputs": []
    },
    {
      "cell_type": "code",
      "source": [
        "df.isnull().sum()"
      ],
      "metadata": {
        "id": "hm_bMQf1WcJ4"
      },
      "execution_count": null,
      "outputs": []
    },
    {
      "cell_type": "code",
      "source": [
        "df['missing_education-num'] = df['education-num'].isnull().map({True: 1, False: 0})\n",
        "df['missing_occupation'] = df['occupation'].isnull().map({True: 1, False: 0})\n",
        "df.head()"
      ],
      "metadata": {
        "id": "S97QYajsWjjO"
      },
      "execution_count": null,
      "outputs": []
    },
    {
      "cell_type": "code",
      "source": [
        "def split_vals(a,n): \n",
        "  return a[:n].copy(), a[n:].copy()"
      ],
      "metadata": {
        "id": "MSHCSTd0W4Xp"
      },
      "execution_count": null,
      "outputs": []
    },
    {
      "cell_type": "code",
      "source": [
        "X = df.drop('salary', axis = 1)\n",
        "y = df['salary']"
      ],
      "metadata": {
        "id": "gBUP-TqUW6MW"
      },
      "execution_count": null,
      "outputs": []
    },
    {
      "cell_type": "code",
      "source": [
        "len(df)"
      ],
      "metadata": {
        "id": "-zzoAkrQW_Dm"
      },
      "execution_count": null,
      "outputs": []
    },
    {
      "cell_type": "code",
      "source": [
        "n_valid = int(len(df) * 0.2)  # same as Kaggle's test set size\n",
        "n_trn = len(df)-n_valid\n",
        "\n",
        "X_train, X_valid = split_vals(X, n_trn)\n",
        "y_train, y_valid = split_vals(y, n_trn)\n",
        "\n",
        "X_train.shape, y_train.shape, X_valid.shape, y_valid.shape"
      ],
      "metadata": {
        "id": "2Mwd0BnkXD3u"
      },
      "execution_count": null,
      "outputs": []
    },
    {
      "cell_type": "code",
      "source": [
        "clf = RandomForestClassifier(n_jobs=-1, max_features=0.5, n_estimators=20)\n",
        "clf = clf.fit(X_train, y_train)\n",
        "predictions = clf.predict(X_valid)"
      ],
      "metadata": {
        "id": "RXas6IbWbkBH"
      },
      "execution_count": null,
      "outputs": []
    },
    {
      "cell_type": "code",
      "source": [
        "from sklearn.metrics import accuracy_score\n",
        "accuracy_score(y_valid, predictions)"
      ],
      "metadata": {
        "id": "cZMnxXncbtuu"
      },
      "execution_count": null,
      "outputs": []
    }
  ]
}