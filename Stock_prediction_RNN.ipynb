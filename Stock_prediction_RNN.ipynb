{
  "nbformat": 4,
  "nbformat_minor": 0,
  "metadata": {
    "colab": {
      "name": "Stock_prediction_RNN.ipynb",
      "provenance": [],
      "collapsed_sections": [],
      "authorship_tag": "ABX9TyOgA9dVSumUmleEN9sQ1+Nj",
      "include_colab_link": true
    },
    "kernelspec": {
      "name": "python3",
      "display_name": "Python 3"
    },
    "language_info": {
      "name": "python"
    }
  },
  "cells": [
    {
      "cell_type": "markdown",
      "metadata": {
        "id": "view-in-github",
        "colab_type": "text"
      },
      "source": [
        "<a href=\"https://colab.research.google.com/github/Daivar/Deep_Learning_Models/blob/main/Stock_prediction_RNN.ipynb\" target=\"_parent\"><img src=\"https://colab.research.google.com/assets/colab-badge.svg\" alt=\"Open In Colab\"/></a>"
      ]
    },
    {
      "cell_type": "code",
      "execution_count": 1,
      "metadata": {
        "id": "E6Iz5KXoqFtp"
      },
      "outputs": [],
      "source": [
        "import io\n",
        "import pandas as pd\n",
        "import numpy as np\n",
        "import matplotlib  as mpl\n",
        "import matplotlib.pyplot as plt\n",
        "from matplotlib.pylab import rcParams\n",
        "rcParams['figure.figsize']=20,10\n",
        "\n",
        "from keras.models import Sequential\n",
        "from keras.layers import LSTM, Dropout, Dense\n",
        "from sklearn.preprocessing import MinMaxScaler"
      ]
    },
    {
      "cell_type": "code",
      "source": [
        "data_url = 'https://raw.githubusercontent.com/MindaugasBernatavicius/DeepLearningCourse/master/09_Sequential_Data_Analysis/NSE-Tata-Global-Beverages-Limited.csv'\n",
        "df = pd.read_csv(data_url)\n",
        "# df[\"Date\"]=pd.to_datetime(df.Date,format=\"%Y-%m-%d\")\n",
        "# df.index=df['Date']\n",
        "df = df[::-1]\n",
        "df"
      ],
      "metadata": {
        "colab": {
          "base_uri": "https://localhost:8080/",
          "height": 423
        },
        "id": "KrIS6ZRlqOnX",
        "outputId": "22de3051-9395-4d11-f8d7-bd615835eee3"
      },
      "execution_count": 4,
      "outputs": [
        {
          "output_type": "execute_result",
          "data": {
            "text/html": [
              "\n",
              "  <div id=\"df-c863a4b2-2a54-45ea-b80d-4bdb6d2d0629\">\n",
              "    <div class=\"colab-df-container\">\n",
              "      <div>\n",
              "<style scoped>\n",
              "    .dataframe tbody tr th:only-of-type {\n",
              "        vertical-align: middle;\n",
              "    }\n",
              "\n",
              "    .dataframe tbody tr th {\n",
              "        vertical-align: top;\n",
              "    }\n",
              "\n",
              "    .dataframe thead th {\n",
              "        text-align: right;\n",
              "    }\n",
              "</style>\n",
              "<table border=\"1\" class=\"dataframe\">\n",
              "  <thead>\n",
              "    <tr style=\"text-align: right;\">\n",
              "      <th></th>\n",
              "      <th>Date</th>\n",
              "      <th>Open</th>\n",
              "      <th>High</th>\n",
              "      <th>Low</th>\n",
              "      <th>Last</th>\n",
              "      <th>Close</th>\n",
              "      <th>Total Trade Quantity</th>\n",
              "      <th>Turnover (Lacs)</th>\n",
              "    </tr>\n",
              "  </thead>\n",
              "  <tbody>\n",
              "    <tr>\n",
              "      <th>2034</th>\n",
              "      <td>2010-07-21</td>\n",
              "      <td>122.10</td>\n",
              "      <td>123.00</td>\n",
              "      <td>121.05</td>\n",
              "      <td>121.10</td>\n",
              "      <td>121.55</td>\n",
              "      <td>658666</td>\n",
              "      <td>803.56</td>\n",
              "    </tr>\n",
              "    <tr>\n",
              "      <th>2033</th>\n",
              "      <td>2010-07-22</td>\n",
              "      <td>120.30</td>\n",
              "      <td>122.00</td>\n",
              "      <td>120.25</td>\n",
              "      <td>120.75</td>\n",
              "      <td>120.90</td>\n",
              "      <td>293312</td>\n",
              "      <td>355.17</td>\n",
              "    </tr>\n",
              "    <tr>\n",
              "      <th>2032</th>\n",
              "      <td>2010-07-23</td>\n",
              "      <td>121.80</td>\n",
              "      <td>121.95</td>\n",
              "      <td>120.25</td>\n",
              "      <td>120.35</td>\n",
              "      <td>120.65</td>\n",
              "      <td>281312</td>\n",
              "      <td>340.31</td>\n",
              "    </tr>\n",
              "    <tr>\n",
              "      <th>2031</th>\n",
              "      <td>2010-07-26</td>\n",
              "      <td>120.10</td>\n",
              "      <td>121.00</td>\n",
              "      <td>117.10</td>\n",
              "      <td>117.10</td>\n",
              "      <td>117.60</td>\n",
              "      <td>658440</td>\n",
              "      <td>780.01</td>\n",
              "    </tr>\n",
              "    <tr>\n",
              "      <th>2030</th>\n",
              "      <td>2010-07-27</td>\n",
              "      <td>117.60</td>\n",
              "      <td>119.50</td>\n",
              "      <td>112.00</td>\n",
              "      <td>118.80</td>\n",
              "      <td>118.65</td>\n",
              "      <td>586100</td>\n",
              "      <td>694.98</td>\n",
              "    </tr>\n",
              "    <tr>\n",
              "      <th>...</th>\n",
              "      <td>...</td>\n",
              "      <td>...</td>\n",
              "      <td>...</td>\n",
              "      <td>...</td>\n",
              "      <td>...</td>\n",
              "      <td>...</td>\n",
              "      <td>...</td>\n",
              "      <td>...</td>\n",
              "    </tr>\n",
              "    <tr>\n",
              "      <th>4</th>\n",
              "      <td>2018-09-24</td>\n",
              "      <td>233.55</td>\n",
              "      <td>239.20</td>\n",
              "      <td>230.75</td>\n",
              "      <td>234.00</td>\n",
              "      <td>233.30</td>\n",
              "      <td>3423509</td>\n",
              "      <td>7999.55</td>\n",
              "    </tr>\n",
              "    <tr>\n",
              "      <th>3</th>\n",
              "      <td>2018-09-25</td>\n",
              "      <td>233.30</td>\n",
              "      <td>236.75</td>\n",
              "      <td>232.00</td>\n",
              "      <td>236.25</td>\n",
              "      <td>236.10</td>\n",
              "      <td>2349368</td>\n",
              "      <td>5503.90</td>\n",
              "    </tr>\n",
              "    <tr>\n",
              "      <th>2</th>\n",
              "      <td>2018-09-26</td>\n",
              "      <td>240.00</td>\n",
              "      <td>240.00</td>\n",
              "      <td>232.50</td>\n",
              "      <td>235.00</td>\n",
              "      <td>234.25</td>\n",
              "      <td>2240909</td>\n",
              "      <td>5248.60</td>\n",
              "    </tr>\n",
              "    <tr>\n",
              "      <th>1</th>\n",
              "      <td>2018-09-27</td>\n",
              "      <td>234.55</td>\n",
              "      <td>236.80</td>\n",
              "      <td>231.10</td>\n",
              "      <td>233.80</td>\n",
              "      <td>233.25</td>\n",
              "      <td>5082859</td>\n",
              "      <td>11859.95</td>\n",
              "    </tr>\n",
              "    <tr>\n",
              "      <th>0</th>\n",
              "      <td>2018-09-28</td>\n",
              "      <td>234.05</td>\n",
              "      <td>235.95</td>\n",
              "      <td>230.20</td>\n",
              "      <td>233.50</td>\n",
              "      <td>233.75</td>\n",
              "      <td>3069914</td>\n",
              "      <td>7162.35</td>\n",
              "    </tr>\n",
              "  </tbody>\n",
              "</table>\n",
              "<p>2035 rows × 8 columns</p>\n",
              "</div>\n",
              "      <button class=\"colab-df-convert\" onclick=\"convertToInteractive('df-c863a4b2-2a54-45ea-b80d-4bdb6d2d0629')\"\n",
              "              title=\"Convert this dataframe to an interactive table.\"\n",
              "              style=\"display:none;\">\n",
              "        \n",
              "  <svg xmlns=\"http://www.w3.org/2000/svg\" height=\"24px\"viewBox=\"0 0 24 24\"\n",
              "       width=\"24px\">\n",
              "    <path d=\"M0 0h24v24H0V0z\" fill=\"none\"/>\n",
              "    <path d=\"M18.56 5.44l.94 2.06.94-2.06 2.06-.94-2.06-.94-.94-2.06-.94 2.06-2.06.94zm-11 1L8.5 8.5l.94-2.06 2.06-.94-2.06-.94L8.5 2.5l-.94 2.06-2.06.94zm10 10l.94 2.06.94-2.06 2.06-.94-2.06-.94-.94-2.06-.94 2.06-2.06.94z\"/><path d=\"M17.41 7.96l-1.37-1.37c-.4-.4-.92-.59-1.43-.59-.52 0-1.04.2-1.43.59L10.3 9.45l-7.72 7.72c-.78.78-.78 2.05 0 2.83L4 21.41c.39.39.9.59 1.41.59.51 0 1.02-.2 1.41-.59l7.78-7.78 2.81-2.81c.8-.78.8-2.07 0-2.86zM5.41 20L4 18.59l7.72-7.72 1.47 1.35L5.41 20z\"/>\n",
              "  </svg>\n",
              "      </button>\n",
              "      \n",
              "  <style>\n",
              "    .colab-df-container {\n",
              "      display:flex;\n",
              "      flex-wrap:wrap;\n",
              "      gap: 12px;\n",
              "    }\n",
              "\n",
              "    .colab-df-convert {\n",
              "      background-color: #E8F0FE;\n",
              "      border: none;\n",
              "      border-radius: 50%;\n",
              "      cursor: pointer;\n",
              "      display: none;\n",
              "      fill: #1967D2;\n",
              "      height: 32px;\n",
              "      padding: 0 0 0 0;\n",
              "      width: 32px;\n",
              "    }\n",
              "\n",
              "    .colab-df-convert:hover {\n",
              "      background-color: #E2EBFA;\n",
              "      box-shadow: 0px 1px 2px rgba(60, 64, 67, 0.3), 0px 1px 3px 1px rgba(60, 64, 67, 0.15);\n",
              "      fill: #174EA6;\n",
              "    }\n",
              "\n",
              "    [theme=dark] .colab-df-convert {\n",
              "      background-color: #3B4455;\n",
              "      fill: #D2E3FC;\n",
              "    }\n",
              "\n",
              "    [theme=dark] .colab-df-convert:hover {\n",
              "      background-color: #434B5C;\n",
              "      box-shadow: 0px 1px 3px 1px rgba(0, 0, 0, 0.15);\n",
              "      filter: drop-shadow(0px 1px 2px rgba(0, 0, 0, 0.3));\n",
              "      fill: #FFFFFF;\n",
              "    }\n",
              "  </style>\n",
              "\n",
              "      <script>\n",
              "        const buttonEl =\n",
              "          document.querySelector('#df-c863a4b2-2a54-45ea-b80d-4bdb6d2d0629 button.colab-df-convert');\n",
              "        buttonEl.style.display =\n",
              "          google.colab.kernel.accessAllowed ? 'block' : 'none';\n",
              "\n",
              "        async function convertToInteractive(key) {\n",
              "          const element = document.querySelector('#df-c863a4b2-2a54-45ea-b80d-4bdb6d2d0629');\n",
              "          const dataTable =\n",
              "            await google.colab.kernel.invokeFunction('convertToInteractive',\n",
              "                                                     [key], {});\n",
              "          if (!dataTable) return;\n",
              "\n",
              "          const docLinkHtml = 'Like what you see? Visit the ' +\n",
              "            '<a target=\"_blank\" href=https://colab.research.google.com/notebooks/data_table.ipynb>data table notebook</a>'\n",
              "            + ' to learn more about interactive tables.';\n",
              "          element.innerHTML = '';\n",
              "          dataTable['output_type'] = 'display_data';\n",
              "          await google.colab.output.renderOutput(dataTable, element);\n",
              "          const docLink = document.createElement('div');\n",
              "          docLink.innerHTML = docLinkHtml;\n",
              "          element.appendChild(docLink);\n",
              "        }\n",
              "      </script>\n",
              "    </div>\n",
              "  </div>\n",
              "  "
            ],
            "text/plain": [
              "            Date    Open    High  ...   Close  Total Trade Quantity  Turnover (Lacs)\n",
              "2034  2010-07-21  122.10  123.00  ...  121.55                658666           803.56\n",
              "2033  2010-07-22  120.30  122.00  ...  120.90                293312           355.17\n",
              "2032  2010-07-23  121.80  121.95  ...  120.65                281312           340.31\n",
              "2031  2010-07-26  120.10  121.00  ...  117.60                658440           780.01\n",
              "2030  2010-07-27  117.60  119.50  ...  118.65                586100           694.98\n",
              "...          ...     ...     ...  ...     ...                   ...              ...\n",
              "4     2018-09-24  233.55  239.20  ...  233.30               3423509          7999.55\n",
              "3     2018-09-25  233.30  236.75  ...  236.10               2349368          5503.90\n",
              "2     2018-09-26  240.00  240.00  ...  234.25               2240909          5248.60\n",
              "1     2018-09-27  234.55  236.80  ...  233.25               5082859         11859.95\n",
              "0     2018-09-28  234.05  235.95  ...  233.75               3069914          7162.35\n",
              "\n",
              "[2035 rows x 8 columns]"
            ]
          },
          "metadata": {},
          "execution_count": 4
        }
      ]
    },
    {
      "cell_type": "code",
      "source": [
        "len(df)"
      ],
      "metadata": {
        "colab": {
          "base_uri": "https://localhost:8080/"
        },
        "id": "9MPPQMVpqc1m",
        "outputId": "65552e99-8e2e-4766-ef3a-e37cc0dacd0b"
      },
      "execution_count": 5,
      "outputs": [
        {
          "output_type": "execute_result",
          "data": {
            "text/plain": [
              "2035"
            ]
          },
          "metadata": {},
          "execution_count": 5
        }
      ]
    },
    {
      "cell_type": "code",
      "source": [
        "# data=df.sort_index(ascending=False,axis=0)\n",
        "data=df.sort_index(ascending=False, axis=0).reset_index(drop=True)\n",
        "new_dataset=pd.DataFrame(index=range(0,len(df)),columns=['Date','Close'])\n",
        "\n",
        "for i in range(0,len(data)):\n",
        "    new_dataset[\"Date\"][i]=data['Date'][i]\n",
        "    new_dataset[\"Close\"][i]=data[\"Close\"][i]\n",
        "\n",
        "train_data = new_dataset[0:987]\n",
        "valid_data = new_dataset[987:]\n",
        "\n",
        "new_dataset.index=new_dataset.Date\n",
        "new_dataset.drop(\"Date\",axis=1,inplace=True)\n",
        "\n",
        "new_dataset.tail(5)"
      ],
      "metadata": {
        "colab": {
          "base_uri": "https://localhost:8080/",
          "height": 237
        },
        "id": "wIw92QKpqeEt",
        "outputId": "1263641b-1c55-4354-8ea0-7912fefca45e"
      },
      "execution_count": 11,
      "outputs": [
        {
          "output_type": "execute_result",
          "data": {
            "text/html": [
              "\n",
              "  <div id=\"df-99fac6b2-dd81-46c4-9d46-38848833fba3\">\n",
              "    <div class=\"colab-df-container\">\n",
              "      <div>\n",
              "<style scoped>\n",
              "    .dataframe tbody tr th:only-of-type {\n",
              "        vertical-align: middle;\n",
              "    }\n",
              "\n",
              "    .dataframe tbody tr th {\n",
              "        vertical-align: top;\n",
              "    }\n",
              "\n",
              "    .dataframe thead th {\n",
              "        text-align: right;\n",
              "    }\n",
              "</style>\n",
              "<table border=\"1\" class=\"dataframe\">\n",
              "  <thead>\n",
              "    <tr style=\"text-align: right;\">\n",
              "      <th></th>\n",
              "      <th>Close</th>\n",
              "    </tr>\n",
              "    <tr>\n",
              "      <th>Date</th>\n",
              "      <th></th>\n",
              "    </tr>\n",
              "  </thead>\n",
              "  <tbody>\n",
              "    <tr>\n",
              "      <th>2018-09-24</th>\n",
              "      <td>233.3</td>\n",
              "    </tr>\n",
              "    <tr>\n",
              "      <th>2018-09-25</th>\n",
              "      <td>236.1</td>\n",
              "    </tr>\n",
              "    <tr>\n",
              "      <th>2018-09-26</th>\n",
              "      <td>234.25</td>\n",
              "    </tr>\n",
              "    <tr>\n",
              "      <th>2018-09-27</th>\n",
              "      <td>233.25</td>\n",
              "    </tr>\n",
              "    <tr>\n",
              "      <th>2018-09-28</th>\n",
              "      <td>233.75</td>\n",
              "    </tr>\n",
              "  </tbody>\n",
              "</table>\n",
              "</div>\n",
              "      <button class=\"colab-df-convert\" onclick=\"convertToInteractive('df-99fac6b2-dd81-46c4-9d46-38848833fba3')\"\n",
              "              title=\"Convert this dataframe to an interactive table.\"\n",
              "              style=\"display:none;\">\n",
              "        \n",
              "  <svg xmlns=\"http://www.w3.org/2000/svg\" height=\"24px\"viewBox=\"0 0 24 24\"\n",
              "       width=\"24px\">\n",
              "    <path d=\"M0 0h24v24H0V0z\" fill=\"none\"/>\n",
              "    <path d=\"M18.56 5.44l.94 2.06.94-2.06 2.06-.94-2.06-.94-.94-2.06-.94 2.06-2.06.94zm-11 1L8.5 8.5l.94-2.06 2.06-.94-2.06-.94L8.5 2.5l-.94 2.06-2.06.94zm10 10l.94 2.06.94-2.06 2.06-.94-2.06-.94-.94-2.06-.94 2.06-2.06.94z\"/><path d=\"M17.41 7.96l-1.37-1.37c-.4-.4-.92-.59-1.43-.59-.52 0-1.04.2-1.43.59L10.3 9.45l-7.72 7.72c-.78.78-.78 2.05 0 2.83L4 21.41c.39.39.9.59 1.41.59.51 0 1.02-.2 1.41-.59l7.78-7.78 2.81-2.81c.8-.78.8-2.07 0-2.86zM5.41 20L4 18.59l7.72-7.72 1.47 1.35L5.41 20z\"/>\n",
              "  </svg>\n",
              "      </button>\n",
              "      \n",
              "  <style>\n",
              "    .colab-df-container {\n",
              "      display:flex;\n",
              "      flex-wrap:wrap;\n",
              "      gap: 12px;\n",
              "    }\n",
              "\n",
              "    .colab-df-convert {\n",
              "      background-color: #E8F0FE;\n",
              "      border: none;\n",
              "      border-radius: 50%;\n",
              "      cursor: pointer;\n",
              "      display: none;\n",
              "      fill: #1967D2;\n",
              "      height: 32px;\n",
              "      padding: 0 0 0 0;\n",
              "      width: 32px;\n",
              "    }\n",
              "\n",
              "    .colab-df-convert:hover {\n",
              "      background-color: #E2EBFA;\n",
              "      box-shadow: 0px 1px 2px rgba(60, 64, 67, 0.3), 0px 1px 3px 1px rgba(60, 64, 67, 0.15);\n",
              "      fill: #174EA6;\n",
              "    }\n",
              "\n",
              "    [theme=dark] .colab-df-convert {\n",
              "      background-color: #3B4455;\n",
              "      fill: #D2E3FC;\n",
              "    }\n",
              "\n",
              "    [theme=dark] .colab-df-convert:hover {\n",
              "      background-color: #434B5C;\n",
              "      box-shadow: 0px 1px 3px 1px rgba(0, 0, 0, 0.15);\n",
              "      filter: drop-shadow(0px 1px 2px rgba(0, 0, 0, 0.3));\n",
              "      fill: #FFFFFF;\n",
              "    }\n",
              "  </style>\n",
              "\n",
              "      <script>\n",
              "        const buttonEl =\n",
              "          document.querySelector('#df-99fac6b2-dd81-46c4-9d46-38848833fba3 button.colab-df-convert');\n",
              "        buttonEl.style.display =\n",
              "          google.colab.kernel.accessAllowed ? 'block' : 'none';\n",
              "\n",
              "        async function convertToInteractive(key) {\n",
              "          const element = document.querySelector('#df-99fac6b2-dd81-46c4-9d46-38848833fba3');\n",
              "          const dataTable =\n",
              "            await google.colab.kernel.invokeFunction('convertToInteractive',\n",
              "                                                     [key], {});\n",
              "          if (!dataTable) return;\n",
              "\n",
              "          const docLinkHtml = 'Like what you see? Visit the ' +\n",
              "            '<a target=\"_blank\" href=https://colab.research.google.com/notebooks/data_table.ipynb>data table notebook</a>'\n",
              "            + ' to learn more about interactive tables.';\n",
              "          element.innerHTML = '';\n",
              "          dataTable['output_type'] = 'display_data';\n",
              "          await google.colab.output.renderOutput(dataTable, element);\n",
              "          const docLink = document.createElement('div');\n",
              "          docLink.innerHTML = docLinkHtml;\n",
              "          element.appendChild(docLink);\n",
              "        }\n",
              "      </script>\n",
              "    </div>\n",
              "  </div>\n",
              "  "
            ],
            "text/plain": [
              "             Close\n",
              "Date              \n",
              "2018-09-24   233.3\n",
              "2018-09-25   236.1\n",
              "2018-09-26  234.25\n",
              "2018-09-27  233.25\n",
              "2018-09-28  233.75"
            ]
          },
          "metadata": {},
          "execution_count": 11
        }
      ]
    },
    {
      "cell_type": "code",
      "source": [
        "scaler=MinMaxScaler(feature_range=(0,1))\n",
        "scaled_data=scaler.fit_transform(new_dataset)\n",
        "\n",
        "# construct the sequences: we will try to predict y\n",
        "# ... based on last 60 values of x\n",
        "x_train_data,y_train_data=[],[]\n",
        "for i in range(60, len(train_data)):\n",
        "    x_train_data.append(scaled_data[i-60:i,0])\n",
        "    y_train_data.append(scaled_data[i,0])\n",
        "\n",
        "# convert to numpy\n",
        "x_train_data, y_train_data = np.array(x_train_data), np.array(y_train_data)\n",
        "print(x_train_data.shape)\n",
        "\n",
        "# reshape it to 3D\n",
        "x_train_data=np.reshape(x_train_data,(x_train_data.shape[0],x_train_data.shape[1],1))\n",
        "\n",
        "# to see how the shape changes we can again print it out\n",
        "print(x_train_data.shape)\n",
        "print(y_train_data.shape)"
      ],
      "metadata": {
        "colab": {
          "base_uri": "https://localhost:8080/"
        },
        "id": "s-i-B8lqqyLG",
        "outputId": "2be6c2f8-e498-4ce3-8c08-37e9bca56868"
      },
      "execution_count": 12,
      "outputs": [
        {
          "output_type": "stream",
          "name": "stdout",
          "text": [
            "(927, 60)\n",
            "(927, 60, 1)\n",
            "(927,)\n"
          ]
        }
      ]
    },
    {
      "cell_type": "code",
      "source": [
        "print(x_train_data[0])\n",
        "print(y_train_data[0])"
      ],
      "metadata": {
        "colab": {
          "base_uri": "https://localhost:8080/"
        },
        "id": "foKlQOpMvPSW",
        "outputId": "fdf2f7e2-e18f-40c4-e272-2616abf24ae6"
      },
      "execution_count": 13,
      "outputs": [
        {
          "output_type": "stream",
          "name": "stdout",
          "text": [
            "[[0.16584967]\n",
            " [0.16319444]\n",
            " [0.1621732 ]\n",
            " [0.14971405]\n",
            " [0.15400327]\n",
            " [0.15236928]\n",
            " [0.14562908]\n",
            " [0.14338235]\n",
            " [0.14848856]\n",
            " [0.15257353]\n",
            " [0.14522059]\n",
            " [0.13521242]\n",
            " [0.12724673]\n",
            " [0.13031046]\n",
            " [0.12806373]\n",
            " [0.13459967]\n",
            " [0.12908497]\n",
            " [0.13562092]\n",
            " [0.12377451]\n",
            " [0.1190768 ]\n",
            " [0.11397059]\n",
            " [0.13112745]\n",
            " [0.12479575]\n",
            " [0.14603758]\n",
            " [0.14501634]\n",
            " [0.14726307]\n",
            " [0.15196078]\n",
            " [0.1503268 ]\n",
            " [0.14971405]\n",
            " [0.16156046]\n",
            " [0.17177288]\n",
            " [0.1693219 ]\n",
            " [0.16830065]\n",
            " [0.17238562]\n",
            " [0.19097222]\n",
            " [0.18913399]\n",
            " [0.19138072]\n",
            " [0.18382353]\n",
            " [0.17544935]\n",
            " [0.17279412]\n",
            " [0.16830065]\n",
            " [0.17034314]\n",
            " [0.17810458]\n",
            " [0.16973039]\n",
            " [0.16278595]\n",
            " [0.17401961]\n",
            " [0.18035131]\n",
            " [0.17422386]\n",
            " [0.17116013]\n",
            " [0.16564542]\n",
            " [0.16033497]\n",
            " [0.17381536]\n",
            " [0.17851307]\n",
            " [0.18811275]\n",
            " [0.19750817]\n",
            " [0.21425654]\n",
            " [0.21098856]\n",
            " [0.21772876]\n",
            " [0.20445261]\n",
            " [0.21568627]]\n",
            "0.21282679738562094\n"
          ]
        }
      ]
    },
    {
      "cell_type": "code",
      "source": [
        "print(x_train_data[1])\n",
        "print(y_train_data[1])"
      ],
      "metadata": {
        "colab": {
          "base_uri": "https://localhost:8080/"
        },
        "id": "DTKUrgblvTsX",
        "outputId": "e7b5c4ba-cb75-4727-cd6a-c95c41f0e738"
      },
      "execution_count": 14,
      "outputs": [
        {
          "output_type": "stream",
          "name": "stdout",
          "text": [
            "[[0.16319444]\n",
            " [0.1621732 ]\n",
            " [0.14971405]\n",
            " [0.15400327]\n",
            " [0.15236928]\n",
            " [0.14562908]\n",
            " [0.14338235]\n",
            " [0.14848856]\n",
            " [0.15257353]\n",
            " [0.14522059]\n",
            " [0.13521242]\n",
            " [0.12724673]\n",
            " [0.13031046]\n",
            " [0.12806373]\n",
            " [0.13459967]\n",
            " [0.12908497]\n",
            " [0.13562092]\n",
            " [0.12377451]\n",
            " [0.1190768 ]\n",
            " [0.11397059]\n",
            " [0.13112745]\n",
            " [0.12479575]\n",
            " [0.14603758]\n",
            " [0.14501634]\n",
            " [0.14726307]\n",
            " [0.15196078]\n",
            " [0.1503268 ]\n",
            " [0.14971405]\n",
            " [0.16156046]\n",
            " [0.17177288]\n",
            " [0.1693219 ]\n",
            " [0.16830065]\n",
            " [0.17238562]\n",
            " [0.19097222]\n",
            " [0.18913399]\n",
            " [0.19138072]\n",
            " [0.18382353]\n",
            " [0.17544935]\n",
            " [0.17279412]\n",
            " [0.16830065]\n",
            " [0.17034314]\n",
            " [0.17810458]\n",
            " [0.16973039]\n",
            " [0.16278595]\n",
            " [0.17401961]\n",
            " [0.18035131]\n",
            " [0.17422386]\n",
            " [0.17116013]\n",
            " [0.16564542]\n",
            " [0.16033497]\n",
            " [0.17381536]\n",
            " [0.17851307]\n",
            " [0.18811275]\n",
            " [0.19750817]\n",
            " [0.21425654]\n",
            " [0.21098856]\n",
            " [0.21772876]\n",
            " [0.20445261]\n",
            " [0.21568627]\n",
            " [0.2128268 ]]\n",
            "0.19975490196078427\n"
          ]
        }
      ]
    },
    {
      "cell_type": "code",
      "source": [
        "len(y_train_data)"
      ],
      "metadata": {
        "colab": {
          "base_uri": "https://localhost:8080/"
        },
        "id": "vMnyf2QRvVGX",
        "outputId": "a65fcfaf-2fcc-4315-b3a6-a3518376b213"
      },
      "execution_count": 15,
      "outputs": [
        {
          "output_type": "execute_result",
          "data": {
            "text/plain": [
              "927"
            ]
          },
          "metadata": {},
          "execution_count": 15
        }
      ]
    },
    {
      "cell_type": "code",
      "source": [
        "print(list(x_train_data[0]))\n",
        "print(list(x_train_data[1]))\n",
        "print(list(x_train_data[2]))\n",
        "\n",
        "print(y_train_data[0])\n",
        "print(y_train_data[1])\n",
        "print(y_train_data[2])"
      ],
      "metadata": {
        "colab": {
          "base_uri": "https://localhost:8080/"
        },
        "id": "Tl-P7PgKvx4S",
        "outputId": "ab355495-3fba-432b-dc1e-8d58fa1ccbd9"
      },
      "execution_count": 16,
      "outputs": [
        {
          "output_type": "stream",
          "name": "stdout",
          "text": [
            "[array([0.16584967]), array([0.16319444]), array([0.1621732]), array([0.14971405]), array([0.15400327]), array([0.15236928]), array([0.14562908]), array([0.14338235]), array([0.14848856]), array([0.15257353]), array([0.14522059]), array([0.13521242]), array([0.12724673]), array([0.13031046]), array([0.12806373]), array([0.13459967]), array([0.12908497]), array([0.13562092]), array([0.12377451]), array([0.1190768]), array([0.11397059]), array([0.13112745]), array([0.12479575]), array([0.14603758]), array([0.14501634]), array([0.14726307]), array([0.15196078]), array([0.1503268]), array([0.14971405]), array([0.16156046]), array([0.17177288]), array([0.1693219]), array([0.16830065]), array([0.17238562]), array([0.19097222]), array([0.18913399]), array([0.19138072]), array([0.18382353]), array([0.17544935]), array([0.17279412]), array([0.16830065]), array([0.17034314]), array([0.17810458]), array([0.16973039]), array([0.16278595]), array([0.17401961]), array([0.18035131]), array([0.17422386]), array([0.17116013]), array([0.16564542]), array([0.16033497]), array([0.17381536]), array([0.17851307]), array([0.18811275]), array([0.19750817]), array([0.21425654]), array([0.21098856]), array([0.21772876]), array([0.20445261]), array([0.21568627])]\n",
            "[array([0.16319444]), array([0.1621732]), array([0.14971405]), array([0.15400327]), array([0.15236928]), array([0.14562908]), array([0.14338235]), array([0.14848856]), array([0.15257353]), array([0.14522059]), array([0.13521242]), array([0.12724673]), array([0.13031046]), array([0.12806373]), array([0.13459967]), array([0.12908497]), array([0.13562092]), array([0.12377451]), array([0.1190768]), array([0.11397059]), array([0.13112745]), array([0.12479575]), array([0.14603758]), array([0.14501634]), array([0.14726307]), array([0.15196078]), array([0.1503268]), array([0.14971405]), array([0.16156046]), array([0.17177288]), array([0.1693219]), array([0.16830065]), array([0.17238562]), array([0.19097222]), array([0.18913399]), array([0.19138072]), array([0.18382353]), array([0.17544935]), array([0.17279412]), array([0.16830065]), array([0.17034314]), array([0.17810458]), array([0.16973039]), array([0.16278595]), array([0.17401961]), array([0.18035131]), array([0.17422386]), array([0.17116013]), array([0.16564542]), array([0.16033497]), array([0.17381536]), array([0.17851307]), array([0.18811275]), array([0.19750817]), array([0.21425654]), array([0.21098856]), array([0.21772876]), array([0.20445261]), array([0.21568627]), array([0.2128268])]\n",
            "[array([0.1621732]), array([0.14971405]), array([0.15400327]), array([0.15236928]), array([0.14562908]), array([0.14338235]), array([0.14848856]), array([0.15257353]), array([0.14522059]), array([0.13521242]), array([0.12724673]), array([0.13031046]), array([0.12806373]), array([0.13459967]), array([0.12908497]), array([0.13562092]), array([0.12377451]), array([0.1190768]), array([0.11397059]), array([0.13112745]), array([0.12479575]), array([0.14603758]), array([0.14501634]), array([0.14726307]), array([0.15196078]), array([0.1503268]), array([0.14971405]), array([0.16156046]), array([0.17177288]), array([0.1693219]), array([0.16830065]), array([0.17238562]), array([0.19097222]), array([0.18913399]), array([0.19138072]), array([0.18382353]), array([0.17544935]), array([0.17279412]), array([0.16830065]), array([0.17034314]), array([0.17810458]), array([0.16973039]), array([0.16278595]), array([0.17401961]), array([0.18035131]), array([0.17422386]), array([0.17116013]), array([0.16564542]), array([0.16033497]), array([0.17381536]), array([0.17851307]), array([0.18811275]), array([0.19750817]), array([0.21425654]), array([0.21098856]), array([0.21772876]), array([0.20445261]), array([0.21568627]), array([0.2128268]), array([0.1997549])]\n",
            "0.21282679738562094\n",
            "0.19975490196078427\n",
            "0.19873366013071891\n"
          ]
        }
      ]
    },
    {
      "cell_type": "code",
      "source": [
        "# input shape will be:\n",
        "(x_train_data.shape[1], 1)"
      ],
      "metadata": {
        "colab": {
          "base_uri": "https://localhost:8080/"
        },
        "id": "7Xu64S-Uv2Gn",
        "outputId": "c2601773-816c-4e12-a293-9ed4e21e0f72"
      },
      "execution_count": 17,
      "outputs": [
        {
          "output_type": "execute_result",
          "data": {
            "text/plain": [
              "(60, 1)"
            ]
          },
          "metadata": {},
          "execution_count": 17
        }
      ]
    },
    {
      "cell_type": "code",
      "source": [
        "lstm_model=Sequential()\n",
        "lstm_model.add(LSTM(units=50, return_sequences=True, input_shape=(x_train_data.shape[1], 1)))\n",
        "lstm_model.add(LSTM(units=50))\n",
        "lstm_model.add(Dense(1))\n",
        "\n",
        "lstm_model.compile(loss='mean_squared_error',optimizer='adam')\n",
        "history = lstm_model.fit(x_train_data,y_train_data, epochs=20, batch_size=50, verbose=1)"
      ],
      "metadata": {
        "colab": {
          "base_uri": "https://localhost:8080/"
        },
        "id": "Cgr9teoav6GG",
        "outputId": "b0fd2115-72cd-4c97-81d2-3251e292e57b"
      },
      "execution_count": 18,
      "outputs": [
        {
          "output_type": "stream",
          "name": "stdout",
          "text": [
            "Epoch 1/20\n",
            "19/19 [==============================] - 5s 73ms/step - loss: 0.0073\n",
            "Epoch 2/20\n",
            "19/19 [==============================] - 1s 72ms/step - loss: 0.0013\n",
            "Epoch 3/20\n",
            "19/19 [==============================] - 1s 74ms/step - loss: 6.9980e-04\n",
            "Epoch 4/20\n",
            "19/19 [==============================] - 1s 71ms/step - loss: 6.4469e-04\n",
            "Epoch 5/20\n",
            "19/19 [==============================] - 1s 70ms/step - loss: 6.1193e-04\n",
            "Epoch 6/20\n",
            "19/19 [==============================] - 1s 69ms/step - loss: 5.6309e-04\n",
            "Epoch 7/20\n",
            "19/19 [==============================] - 1s 72ms/step - loss: 5.4368e-04\n",
            "Epoch 8/20\n",
            "19/19 [==============================] - 1s 69ms/step - loss: 5.1663e-04\n",
            "Epoch 9/20\n",
            "19/19 [==============================] - 1s 71ms/step - loss: 5.3678e-04\n",
            "Epoch 10/20\n",
            "19/19 [==============================] - 1s 70ms/step - loss: 5.1625e-04\n",
            "Epoch 11/20\n",
            "19/19 [==============================] - 1s 70ms/step - loss: 4.9034e-04\n",
            "Epoch 12/20\n",
            "19/19 [==============================] - 1s 69ms/step - loss: 4.5722e-04\n",
            "Epoch 13/20\n",
            "19/19 [==============================] - 1s 70ms/step - loss: 4.5791e-04\n",
            "Epoch 14/20\n",
            "19/19 [==============================] - 1s 70ms/step - loss: 4.4908e-04\n",
            "Epoch 15/20\n",
            "19/19 [==============================] - 1s 72ms/step - loss: 4.1476e-04\n",
            "Epoch 16/20\n",
            "19/19 [==============================] - 1s 72ms/step - loss: 4.1141e-04\n",
            "Epoch 17/20\n",
            "19/19 [==============================] - 1s 70ms/step - loss: 4.0007e-04\n",
            "Epoch 18/20\n",
            "19/19 [==============================] - 1s 70ms/step - loss: 3.7931e-04\n",
            "Epoch 19/20\n",
            "19/19 [==============================] - 1s 71ms/step - loss: 3.6202e-04\n",
            "Epoch 20/20\n",
            "19/19 [==============================] - 1s 70ms/step - loss: 3.5955e-04\n"
          ]
        }
      ]
    },
    {
      "cell_type": "code",
      "source": [
        "def plot_learning_curves(loss):\n",
        "    plt.plot(np.arange(len(loss)) + 0.5, loss, \"b.-\", label=\"Training loss\")\n",
        "    plt.gca().xaxis.set_major_locator(mpl.ticker.MaxNLocator(integer=True))\n",
        "    # plt.axis([1, 20, 0, 0.05])\n",
        "    plt.legend(fontsize=14)\n",
        "    plt.xlabel(\"Epochs\")\n",
        "    plt.ylabel(\"Loss\")\n",
        "    plt.grid(True)\n",
        "\n",
        "plot_learning_curves(history.history[\"loss\"])\n",
        "plt.show()"
      ],
      "metadata": {
        "colab": {
          "base_uri": "https://localhost:8080/",
          "height": 278
        },
        "id": "Q2KXGdeCwAIC",
        "outputId": "aad1accf-3c29-43e4-d817-c7efb9d8be7f"
      },
      "execution_count": 32,
      "outputs": [
        {
          "output_type": "display_data",
          "data": {
            "image/png": "[encoded data removed]",
            "text/plain": [
              "<Figure size 432x288 with 1 Axes>"
            ]
          },
          "metadata": {
            "needs_background": "light"
          }
        }
      ]
    },
    {
      "cell_type": "code",
      "source": [
        "# construct the dataset for prediction\n",
        "inputs_data=new_dataset[len(new_dataset)-len(valid_data)-60:].values\n",
        "inputs_data=inputs_data.reshape(-1,1)\n",
        "inputs_data=scaler.transform(inputs_data)"
      ],
      "metadata": {
        "colab": {
          "base_uri": "https://localhost:8080/"
        },
        "id": "2x9sK97ewKpf",
        "outputId": "f2edcf7f-8e74-4c76-82a2-9164dc24b179"
      },
      "execution_count": 21,
      "outputs": [
        {
          "output_type": "stream",
          "name": "stderr",
          "text": [
            "/usr/local/lib/python3.7/dist-packages/sklearn/base.py:451: UserWarning: X does not have valid feature names, but MinMaxScaler was fitted with feature names\n",
            "  \"X does not have valid feature names, but\"\n"
          ]
        }
      ]
    },
    {
      "cell_type": "code",
      "source": [
        "X_test=[]\n",
        "for i in range(60,inputs_data.shape[0]):\n",
        "    X_test.append(inputs_data[i-60:i,0])\n",
        "X_test=np.array(X_test)\n",
        "X_test=np.reshape(X_test,(X_test.shape[0],X_test.shape[1],1))"
      ],
      "metadata": {
        "id": "syDFcUbzwPMr"
      },
      "execution_count": 22,
      "outputs": []
    },
    {
      "cell_type": "code",
      "source": [
        "X_test=[]\n",
        "for i in range(60,inputs_data.shape[0]):\n",
        "    X_test.append(inputs_data[i-60:i,0])\n",
        "X_test=np.array(X_test)\n",
        "X_test=np.reshape(X_test,(X_test.shape[0],X_test.shape[1],1))"
      ],
      "metadata": {
        "id": "eM0yNJBywYNe"
      },
      "execution_count": 23,
      "outputs": []
    },
    {
      "cell_type": "code",
      "source": [
        "predicted_closing_price=lstm_model.predict(X_test)\n",
        "predicted_closing_price=scaler.inverse_transform(predicted_closing_price)"
      ],
      "metadata": {
        "id": "GJ_PBPXrwlf7"
      },
      "execution_count": 26,
      "outputs": []
    },
    {
      "cell_type": "code",
      "source": [
        "train_data=new_dataset[:987]\n",
        "valid_data=new_dataset[987:]\n",
        "\n",
        "valid_data"
      ],
      "metadata": {
        "colab": {
          "base_uri": "https://localhost:8080/",
          "height": 454
        },
        "id": "ABdhmxxhwbde",
        "outputId": "b67fae0c-7394-4a19-fefc-3260e8b5fbc1"
      },
      "execution_count": 27,
      "outputs": [
        {
          "output_type": "execute_result",
          "data": {
            "text/html": [
              "\n",
              "  <div id=\"df-77d4613f-5081-47fe-96ad-c8a330bc7464\">\n",
              "    <div class=\"colab-df-container\">\n",
              "      <div>\n",
              "<style scoped>\n",
              "    .dataframe tbody tr th:only-of-type {\n",
              "        vertical-align: middle;\n",
              "    }\n",
              "\n",
              "    .dataframe tbody tr th {\n",
              "        vertical-align: top;\n",
              "    }\n",
              "\n",
              "    .dataframe thead th {\n",
              "        text-align: right;\n",
              "    }\n",
              "</style>\n",
              "<table border=\"1\" class=\"dataframe\">\n",
              "  <thead>\n",
              "    <tr style=\"text-align: right;\">\n",
              "      <th></th>\n",
              "      <th>Close</th>\n",
              "    </tr>\n",
              "    <tr>\n",
              "      <th>Date</th>\n",
              "      <th></th>\n",
              "    </tr>\n",
              "  </thead>\n",
              "  <tbody>\n",
              "    <tr>\n",
              "      <th>2014-07-02</th>\n",
              "      <td>174.35</td>\n",
              "    </tr>\n",
              "    <tr>\n",
              "      <th>2014-07-03</th>\n",
              "      <td>169.2</td>\n",
              "    </tr>\n",
              "    <tr>\n",
              "      <th>2014-07-04</th>\n",
              "      <td>167.85</td>\n",
              "    </tr>\n",
              "    <tr>\n",
              "      <th>2014-07-07</th>\n",
              "      <td>167.05</td>\n",
              "    </tr>\n",
              "    <tr>\n",
              "      <th>2014-07-08</th>\n",
              "      <td>158.7</td>\n",
              "    </tr>\n",
              "    <tr>\n",
              "      <th>...</th>\n",
              "      <td>...</td>\n",
              "    </tr>\n",
              "    <tr>\n",
              "      <th>2018-09-24</th>\n",
              "      <td>233.3</td>\n",
              "    </tr>\n",
              "    <tr>\n",
              "      <th>2018-09-25</th>\n",
              "      <td>236.1</td>\n",
              "    </tr>\n",
              "    <tr>\n",
              "      <th>2018-09-26</th>\n",
              "      <td>234.25</td>\n",
              "    </tr>\n",
              "    <tr>\n",
              "      <th>2018-09-27</th>\n",
              "      <td>233.25</td>\n",
              "    </tr>\n",
              "    <tr>\n",
              "      <th>2018-09-28</th>\n",
              "      <td>233.75</td>\n",
              "    </tr>\n",
              "  </tbody>\n",
              "</table>\n",
              "<p>1048 rows × 1 columns</p>\n",
              "</div>\n",
              "      <button class=\"colab-df-convert\" onclick=\"convertToInteractive('df-77d4613f-5081-47fe-96ad-c8a330bc7464')\"\n",
              "              title=\"Convert this dataframe to an interactive table.\"\n",
              "              style=\"display:none;\">\n",
              "        \n",
              "  <svg xmlns=\"http://www.w3.org/2000/svg\" height=\"24px\"viewBox=\"0 0 24 24\"\n",
              "       width=\"24px\">\n",
              "    <path d=\"M0 0h24v24H0V0z\" fill=\"none\"/>\n",
              "    <path d=\"M18.56 5.44l.94 2.06.94-2.06 2.06-.94-2.06-.94-.94-2.06-.94 2.06-2.06.94zm-11 1L8.5 8.5l.94-2.06 2.06-.94-2.06-.94L8.5 2.5l-.94 2.06-2.06.94zm10 10l.94 2.06.94-2.06 2.06-.94-2.06-.94-.94-2.06-.94 2.06-2.06.94z\"/><path d=\"M17.41 7.96l-1.37-1.37c-.4-.4-.92-.59-1.43-.59-.52 0-1.04.2-1.43.59L10.3 9.45l-7.72 7.72c-.78.78-.78 2.05 0 2.83L4 21.41c.39.39.9.59 1.41.59.51 0 1.02-.2 1.41-.59l7.78-7.78 2.81-2.81c.8-.78.8-2.07 0-2.86zM5.41 20L4 18.59l7.72-7.72 1.47 1.35L5.41 20z\"/>\n",
              "  </svg>\n",
              "      </button>\n",
              "      \n",
              "  <style>\n",
              "    .colab-df-container {\n",
              "      display:flex;\n",
              "      flex-wrap:wrap;\n",
              "      gap: 12px;\n",
              "    }\n",
              "\n",
              "    .colab-df-convert {\n",
              "      background-color: #E8F0FE;\n",
              "      border: none;\n",
              "      border-radius: 50%;\n",
              "      cursor: pointer;\n",
              "      display: none;\n",
              "      fill: #1967D2;\n",
              "      height: 32px;\n",
              "      padding: 0 0 0 0;\n",
              "      width: 32px;\n",
              "    }\n",
              "\n",
              "    .colab-df-convert:hover {\n",
              "      background-color: #E2EBFA;\n",
              "      box-shadow: 0px 1px 2px rgba(60, 64, 67, 0.3), 0px 1px 3px 1px rgba(60, 64, 67, 0.15);\n",
              "      fill: #174EA6;\n",
              "    }\n",
              "\n",
              "    [theme=dark] .colab-df-convert {\n",
              "      background-color: #3B4455;\n",
              "      fill: #D2E3FC;\n",
              "    }\n",
              "\n",
              "    [theme=dark] .colab-df-convert:hover {\n",
              "      background-color: #434B5C;\n",
              "      box-shadow: 0px 1px 3px 1px rgba(0, 0, 0, 0.15);\n",
              "      filter: drop-shadow(0px 1px 2px rgba(0, 0, 0, 0.3));\n",
              "      fill: #FFFFFF;\n",
              "    }\n",
              "  </style>\n",
              "\n",
              "      <script>\n",
              "        const buttonEl =\n",
              "          document.querySelector('#df-77d4613f-5081-47fe-96ad-c8a330bc7464 button.colab-df-convert');\n",
              "        buttonEl.style.display =\n",
              "          google.colab.kernel.accessAllowed ? 'block' : 'none';\n",
              "\n",
              "        async function convertToInteractive(key) {\n",
              "          const element = document.querySelector('#df-77d4613f-5081-47fe-96ad-c8a330bc7464');\n",
              "          const dataTable =\n",
              "            await google.colab.kernel.invokeFunction('convertToInteractive',\n",
              "                                                     [key], {});\n",
              "          if (!dataTable) return;\n",
              "\n",
              "          const docLinkHtml = 'Like what you see? Visit the ' +\n",
              "            '<a target=\"_blank\" href=https://colab.research.google.com/notebooks/data_table.ipynb>data table notebook</a>'\n",
              "            + ' to learn more about interactive tables.';\n",
              "          element.innerHTML = '';\n",
              "          dataTable['output_type'] = 'display_data';\n",
              "          await google.colab.output.renderOutput(dataTable, element);\n",
              "          const docLink = document.createElement('div');\n",
              "          docLink.innerHTML = docLinkHtml;\n",
              "          element.appendChild(docLink);\n",
              "        }\n",
              "      </script>\n",
              "    </div>\n",
              "  </div>\n",
              "  "
            ],
            "text/plain": [
              "             Close\n",
              "Date              \n",
              "2014-07-02  174.35\n",
              "2014-07-03   169.2\n",
              "2014-07-04  167.85\n",
              "2014-07-07  167.05\n",
              "2014-07-08   158.7\n",
              "...            ...\n",
              "2018-09-24   233.3\n",
              "2018-09-25   236.1\n",
              "2018-09-26  234.25\n",
              "2018-09-27  233.25\n",
              "2018-09-28  233.75\n",
              "\n",
              "[1048 rows x 1 columns]"
            ]
          },
          "metadata": {},
          "execution_count": 27
        }
      ]
    },
    {
      "cell_type": "code",
      "source": [
        "valid_data = valid_data.assign(Predictions=predicted_closing_price)\n",
        "valid_data"
      ],
      "metadata": {
        "colab": {
          "base_uri": "https://localhost:8080/",
          "height": 454
        },
        "id": "Z95u9S2Ywfun",
        "outputId": "a493556d-7aea-4664-8af5-66d109ed5c4d"
      },
      "execution_count": 28,
      "outputs": [
        {
          "output_type": "execute_result",
          "data": {
            "text/html": [
              "\n",
              "  <div id=\"df-fb0e908e-3323-4bfe-ae23-e02e15a80d3c\">\n",
              "    <div class=\"colab-df-container\">\n",
              "      <div>\n",
              "<style scoped>\n",
              "    .dataframe tbody tr th:only-of-type {\n",
              "        vertical-align: middle;\n",
              "    }\n",
              "\n",
              "    .dataframe tbody tr th {\n",
              "        vertical-align: top;\n",
              "    }\n",
              "\n",
              "    .dataframe thead th {\n",
              "        text-align: right;\n",
              "    }\n",
              "</style>\n",
              "<table border=\"1\" class=\"dataframe\">\n",
              "  <thead>\n",
              "    <tr style=\"text-align: right;\">\n",
              "      <th></th>\n",
              "      <th>Close</th>\n",
              "      <th>Predictions</th>\n",
              "    </tr>\n",
              "    <tr>\n",
              "      <th>Date</th>\n",
              "      <th></th>\n",
              "      <th></th>\n",
              "    </tr>\n",
              "  </thead>\n",
              "  <tbody>\n",
              "    <tr>\n",
              "      <th>2014-07-02</th>\n",
              "      <td>174.35</td>\n",
              "      <td>170.701721</td>\n",
              "    </tr>\n",
              "    <tr>\n",
              "      <th>2014-07-03</th>\n",
              "      <td>169.2</td>\n",
              "      <td>172.164993</td>\n",
              "    </tr>\n",
              "    <tr>\n",
              "      <th>2014-07-04</th>\n",
              "      <td>167.85</td>\n",
              "      <td>172.647980</td>\n",
              "    </tr>\n",
              "    <tr>\n",
              "      <th>2014-07-07</th>\n",
              "      <td>167.05</td>\n",
              "      <td>172.359604</td>\n",
              "    </tr>\n",
              "    <tr>\n",
              "      <th>2014-07-08</th>\n",
              "      <td>158.7</td>\n",
              "      <td>171.560806</td>\n",
              "    </tr>\n",
              "    <tr>\n",
              "      <th>...</th>\n",
              "      <td>...</td>\n",
              "      <td>...</td>\n",
              "    </tr>\n",
              "    <tr>\n",
              "      <th>2018-09-24</th>\n",
              "      <td>233.3</td>\n",
              "      <td>230.732864</td>\n",
              "    </tr>\n",
              "    <tr>\n",
              "      <th>2018-09-25</th>\n",
              "      <td>236.1</td>\n",
              "      <td>232.003098</td>\n",
              "    </tr>\n",
              "    <tr>\n",
              "      <th>2018-09-26</th>\n",
              "      <td>234.25</td>\n",
              "      <td>232.998947</td>\n",
              "    </tr>\n",
              "    <tr>\n",
              "      <th>2018-09-27</th>\n",
              "      <td>233.25</td>\n",
              "      <td>233.303726</td>\n",
              "    </tr>\n",
              "    <tr>\n",
              "      <th>2018-09-28</th>\n",
              "      <td>233.75</td>\n",
              "      <td>233.006989</td>\n",
              "    </tr>\n",
              "  </tbody>\n",
              "</table>\n",
              "<p>1048 rows × 2 columns</p>\n",
              "</div>\n",
              "      <button class=\"colab-df-convert\" onclick=\"convertToInteractive('df-fb0e908e-3323-4bfe-ae23-e02e15a80d3c')\"\n",
              "              title=\"Convert this dataframe to an interactive table.\"\n",
              "              style=\"display:none;\">\n",
              "        \n",
              "  <svg xmlns=\"http://www.w3.org/2000/svg\" height=\"24px\"viewBox=\"0 0 24 24\"\n",
              "       width=\"24px\">\n",
              "    <path d=\"M0 0h24v24H0V0z\" fill=\"none\"/>\n",
              "    <path d=\"M18.56 5.44l.94 2.06.94-2.06 2.06-.94-2.06-.94-.94-2.06-.94 2.06-2.06.94zm-11 1L8.5 8.5l.94-2.06 2.06-.94-2.06-.94L8.5 2.5l-.94 2.06-2.06.94zm10 10l.94 2.06.94-2.06 2.06-.94-2.06-.94-.94-2.06-.94 2.06-2.06.94z\"/><path d=\"M17.41 7.96l-1.37-1.37c-.4-.4-.92-.59-1.43-.59-.52 0-1.04.2-1.43.59L10.3 9.45l-7.72 7.72c-.78.78-.78 2.05 0 2.83L4 21.41c.39.39.9.59 1.41.59.51 0 1.02-.2 1.41-.59l7.78-7.78 2.81-2.81c.8-.78.8-2.07 0-2.86zM5.41 20L4 18.59l7.72-7.72 1.47 1.35L5.41 20z\"/>\n",
              "  </svg>\n",
              "      </button>\n",
              "      \n",
              "  <style>\n",
              "    .colab-df-container {\n",
              "      display:flex;\n",
              "      flex-wrap:wrap;\n",
              "      gap: 12px;\n",
              "    }\n",
              "\n",
              "    .colab-df-convert {\n",
              "      background-color: #E8F0FE;\n",
              "      border: none;\n",
              "      border-radius: 50%;\n",
              "      cursor: pointer;\n",
              "      display: none;\n",
              "      fill: #1967D2;\n",
              "      height: 32px;\n",
              "      padding: 0 0 0 0;\n",
              "      width: 32px;\n",
              "    }\n",
              "\n",
              "    .colab-df-convert:hover {\n",
              "      background-color: #E2EBFA;\n",
              "      box-shadow: 0px 1px 2px rgba(60, 64, 67, 0.3), 0px 1px 3px 1px rgba(60, 64, 67, 0.15);\n",
              "      fill: #174EA6;\n",
              "    }\n",
              "\n",
              "    [theme=dark] .colab-df-convert {\n",
              "      background-color: #3B4455;\n",
              "      fill: #D2E3FC;\n",
              "    }\n",
              "\n",
              "    [theme=dark] .colab-df-convert:hover {\n",
              "      background-color: #434B5C;\n",
              "      box-shadow: 0px 1px 3px 1px rgba(0, 0, 0, 0.15);\n",
              "      filter: drop-shadow(0px 1px 2px rgba(0, 0, 0, 0.3));\n",
              "      fill: #FFFFFF;\n",
              "    }\n",
              "  </style>\n",
              "\n",
              "      <script>\n",
              "        const buttonEl =\n",
              "          document.querySelector('#df-fb0e908e-3323-4bfe-ae23-e02e15a80d3c button.colab-df-convert');\n",
              "        buttonEl.style.display =\n",
              "          google.colab.kernel.accessAllowed ? 'block' : 'none';\n",
              "\n",
              "        async function convertToInteractive(key) {\n",
              "          const element = document.querySelector('#df-fb0e908e-3323-4bfe-ae23-e02e15a80d3c');\n",
              "          const dataTable =\n",
              "            await google.colab.kernel.invokeFunction('convertToInteractive',\n",
              "                                                     [key], {});\n",
              "          if (!dataTable) return;\n",
              "\n",
              "          const docLinkHtml = 'Like what you see? Visit the ' +\n",
              "            '<a target=\"_blank\" href=https://colab.research.google.com/notebooks/data_table.ipynb>data table notebook</a>'\n",
              "            + ' to learn more about interactive tables.';\n",
              "          element.innerHTML = '';\n",
              "          dataTable['output_type'] = 'display_data';\n",
              "          await google.colab.output.renderOutput(dataTable, element);\n",
              "          const docLink = document.createElement('div');\n",
              "          docLink.innerHTML = docLinkHtml;\n",
              "          element.appendChild(docLink);\n",
              "        }\n",
              "      </script>\n",
              "    </div>\n",
              "  </div>\n",
              "  "
            ],
            "text/plain": [
              "             Close  Predictions\n",
              "Date                           \n",
              "2014-07-02  174.35   170.701721\n",
              "2014-07-03   169.2   172.164993\n",
              "2014-07-04  167.85   172.647980\n",
              "2014-07-07  167.05   172.359604\n",
              "2014-07-08   158.7   171.560806\n",
              "...            ...          ...\n",
              "2018-09-24   233.3   230.732864\n",
              "2018-09-25   236.1   232.003098\n",
              "2018-09-26  234.25   232.998947\n",
              "2018-09-27  233.25   233.303726\n",
              "2018-09-28  233.75   233.006989\n",
              "\n",
              "[1048 rows x 2 columns]"
            ]
          },
          "metadata": {},
          "execution_count": 28
        }
      ]
    },
    {
      "cell_type": "code",
      "source": [
        "# print(valid_data)\n",
        "plt.plot(new_dataset['Close'])\n",
        "# plt.plot(train_data['Close'])\n",
        "# plt.plot(valid_data['Close'])\n",
        "# plt.plot(valid_data['Predictions'])\n",
        "plt.plot(valid_data.index, predicted_closing_price)"
      ],
      "metadata": {
        "colab": {
          "base_uri": "https://localhost:8080/",
          "height": 283
        },
        "id": "ici7aRxEwufv",
        "outputId": "b0ef4822-992e-4e1b-87b2-940a186af729"
      },
      "execution_count": 35,
      "outputs": [
        {
          "output_type": "execute_result",
          "data": {
            "text/plain": [
              "[<matplotlib.lines.Line2D at 0x7f56dd883e10>]"
            ]
          },
          "metadata": {},
          "execution_count": 35
        },
        {
          "output_type": "display_data",
          "data": {
            "image/png": "[encoded data removed]",
            "text/plain": [
              "<Figure size 432x288 with 1 Axes>"
            ]
          },
          "metadata": {
            "needs_background": "light"
          }
        }
      ]
    },
    {
      "cell_type": "code",
      "source": [
        "# Calculate the MSE for predictions\n",
        "from sklearn.metrics import mean_squared_error\n",
        "mean_squared_error(valid_data['Close'],predicted_closing_price) \n",
        "\n",
        "# Increase the epoch count and retrain the network, see if MSE improves\n",
        "\n",
        "# 66.74\n",
        "# 69.52\n",
        "# 34.15 - batch size: 50, epoch: 20"
      ],
      "metadata": {
        "colab": {
          "base_uri": "https://localhost:8080/"
        },
        "id": "NuMdVSznw7JG",
        "outputId": "27af0aa7-96ef-4a2c-dbfd-54b039eddf52"
      },
      "execution_count": 30,
      "outputs": [
        {
          "output_type": "execute_result",
          "data": {
            "text/plain": [
              "47.201189498092525"
            ]
          },
          "metadata": {},
          "execution_count": 30
        }
      ]
    }
  ]
}