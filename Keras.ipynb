{
  "nbformat": 4,
  "nbformat_minor": 0,
  "metadata": {
    "colab": {
      "name": "Keras.ipynb",
      "private_outputs": true,
      "provenance": [],
      "authorship_tag": "ABX9TyPZ56nYiIxO7dQYUQ+LM5LH",
      "include_colab_link": true
    },
    "kernelspec": {
      "name": "python3",
      "display_name": "Python 3"
    },
    "language_info": {
      "name": "python"
    }
  },
  "cells": [
    {
      "cell_type": "markdown",
      "metadata": {
        "id": "view-in-github",
        "colab_type": "text"
      },
      "source": [
        "<a href=\"https://colab.research.google.com/github/Daivar/Deep_Learning_Models/blob/main/Keras.ipynb\" target=\"_parent\"><img src=\"https://colab.research.google.com/assets/colab-badge.svg\" alt=\"Open In Colab\"/></a>"
      ]
    },
    {
      "cell_type": "code",
      "execution_count": null,
      "metadata": {
        "id": "mG_8mw4Vezba"
      },
      "outputs": [],
      "source": [
        "import tensorflow\n",
        "import keras\n",
        "print(keras.__version__)\n",
        "print(keras)"
      ]
    },
    {
      "cell_type": "code",
      "source": [
        "print(keras.backend.backend())"
      ],
      "metadata": {
        "id": "6vY78l8pfBQS"
      },
      "execution_count": null,
      "outputs": []
    },
    {
      "cell_type": "code",
      "source": [
        "from tensorflow import keras\n",
        "print(keras.__version__)\n",
        "print(keras)"
      ],
      "metadata": {
        "id": "zMhqo51pfHju"
      },
      "execution_count": null,
      "outputs": []
    },
    {
      "cell_type": "code",
      "source": [
        "print(keras.backend.backend())"
      ],
      "metadata": {
        "id": "OQFTr2lLfQV9"
      },
      "execution_count": null,
      "outputs": []
    },
    {
      "cell_type": "markdown",
      "source": [
        "### Sequential keras"
      ],
      "metadata": {
        "id": "nKXosZq0jlu0"
      }
    },
    {
      "cell_type": "code",
      "source": [
        "import keras\n",
        "\n",
        "from keras.models import Sequential\n",
        "from keras.layers import Dense\n",
        "from keras.models import Model\n",
        "import numpy as np\n",
        "import matplotlib.pyplot as plt\n",
        "\n",
        "\n",
        "X = np.array([-10, 0, 2, 6, 12, 15], dtype=float)\n",
        "y = X + 6\n",
        " \n",
        "plt.plot(X, y, \"rx\") \n",
        "plt.show()"
      ],
      "metadata": {
        "id": "WjFqLUlyfYR9"
      },
      "execution_count": null,
      "outputs": []
    },
    {
      "cell_type": "code",
      "source": [
        "import tensorflow as tf\n",
        "from tensorflow import keras\n",
        "from tensorflow.keras import layers\n",
        "from keras import optimizers\n",
        "\n",
        "\n",
        "model = Sequential()\n",
        "model.add(Dense(1,input_dim=1))\n",
        "model.add(Dense(1,activation='linear'))\n",
        "model.compile(optimizer=keras.optimizers.RMSprop(learning_rate=0.1), loss='mse', metrics=['mse'])"
      ],
      "metadata": {
        "id": "rzI63drefeIF"
      },
      "execution_count": null,
      "outputs": []
    },
    {
      "cell_type": "code",
      "source": [
        "model.fit(X, y, batch_size=5, epochs=50, shuffle=False)"
      ],
      "metadata": {
        "id": "Lj6cPwhZi3oJ"
      },
      "execution_count": null,
      "outputs": []
    },
    {
      "cell_type": "code",
      "source": [
        "pred = model.predict(X)"
      ],
      "metadata": {
        "id": "CDO_9UNTjTO3"
      },
      "execution_count": null,
      "outputs": []
    },
    {
      "cell_type": "code",
      "source": [
        "plt.scatter(X, y, c='blue')\n",
        "plt.plot(X, pred, color='g')\n",
        "plt.show()\n",
        "\n",
        "print(pred)"
      ],
      "metadata": {
        "id": "zUO-mvFcjUlr"
      },
      "execution_count": null,
      "outputs": []
    },
    {
      "cell_type": "markdown",
      "source": [
        "### Functional keras"
      ],
      "metadata": {
        "id": "1yAdW0BojcYL"
      }
    },
    {
      "cell_type": "code",
      "source": [
        "import keras\n",
        "from keras.layers import Input\n",
        "from keras.layers import Dense\n",
        "from keras.models import Model\n",
        "import numpy as np\n",
        "import matplotlib.pyplot as plt\n",
        "\n",
        "X = np.array([-10, 0, 2, 6, 12, 15], dtype=float)\n",
        "y = X + 6\n",
        " \n",
        "plt.plot(X, y, \"bx\") \n",
        "plt.show()"
      ],
      "metadata": {
        "id": "vuqsVa20jhW-"
      },
      "execution_count": null,
      "outputs": []
    },
    {
      "cell_type": "code",
      "source": [
        "from tensorflow import keras\n",
        "from tensorflow.keras import optimizers\n",
        "from tensorflow.keras.optimizers import schedules\n",
        "from tensorflow.keras.optimizers import SGD\n",
        "from tensorflow.keras.optimizers import RMSprop\n",
        "from keras.optimizers import gradient_descent_v2\n",
        "\n",
        "\n",
        "inputs = Input(shape=(1,))\n",
        "preds = Dense(1,activation='linear')(inputs)\n",
        "model = Model(inputs=inputs,outputs=preds)\n",
        "model.compile(optimizer=keras.optimizers.SGD(lr=0.01), loss='mse', metrics=['mse'])"
      ],
      "metadata": {
        "id": "Qml6VzHRj0nE"
      },
      "execution_count": null,
      "outputs": []
    },
    {
      "cell_type": "code",
      "source": [
        "model.fit(X,y, batch_size=5, epochs=90, shuffle=False)"
      ],
      "metadata": {
        "id": "1znK6WZXoQ8B"
      },
      "execution_count": null,
      "outputs": []
    },
    {
      "cell_type": "code",
      "source": [
        "pred = model.predict(X)"
      ],
      "metadata": {
        "id": "ooaZac0koZ_T"
      },
      "execution_count": null,
      "outputs": []
    },
    {
      "cell_type": "code",
      "source": [
        "plt.scatter(X, y, c='blue')\n",
        "plt.plot(X, pred, color='g')\n",
        "plt.show()\n",
        "\n",
        "print(pred)"
      ],
      "metadata": {
        "id": "ny6-rMmCoepZ"
      },
      "execution_count": null,
      "outputs": []
    },
    {
      "cell_type": "code",
      "source": [
        "inputs = Input(shape=(1,))\n",
        "preds = Dense(1,activation='linear')(inputs) # <--"
      ],
      "metadata": {
        "id": "6mVGTvpNpG4a"
      },
      "execution_count": null,
      "outputs": []
    },
    {
      "cell_type": "code",
      "source": [
        "x = Dense(4, activation=\"tanh\",  name=\"Hidden-1\")(inputs)\n",
        "x = Dense(4, activation=\"tanh\", name=\"Hidden-2\")(x)\n",
        "x = Dense(12, activation=\"relu\", name=\"Hidden-3\")(x)"
      ],
      "metadata": {
        "id": "mfLAaWwcpH4J"
      },
      "execution_count": null,
      "outputs": []
    },
    {
      "cell_type": "code",
      "source": [
        "def a(p1):\n",
        "    def b(p2): \n",
        "        return p1 + p2 # lexical scope allows us to see p1 even if it was not passed to b() directly\n",
        "    return b\n",
        "\n",
        "print(a(5)(2)) # b(a(5),2) --> 7"
      ],
      "metadata": {
        "id": "htios6s5pXtD"
      },
      "execution_count": null,
      "outputs": []
    },
    {
      "cell_type": "code",
      "source": [
        "print(model.summary())"
      ],
      "metadata": {
        "id": "VraTvmvtpd-5"
      },
      "execution_count": null,
      "outputs": []
    },
    {
      "cell_type": "code",
      "source": [
        "from keras.utils.vis_utils import plot_model\n",
        "plot_model(model, to_file='model_plot.png', show_shapes=True, show_layer_names=True)"
      ],
      "metadata": {
        "id": "XdZN0RFRplUL"
      },
      "execution_count": null,
      "outputs": []
    },
    {
      "cell_type": "code",
      "source": [
        "# import keras\n",
        "from tensorflow import keras\n",
        "from keras.models import Sequential\n",
        "from keras.layers import Dense\n",
        "from keras.models import Model\n",
        "import numpy as np\n",
        "import matplotlib.pyplot as plt\n",
        "\n",
        "X = np.array([-10, 0, 2, 6, 12, 15], dtype=float)\n",
        "y = X + 6\n",
        " \n",
        "plt.plot(X, y, \"rx\") \n",
        "plt.show()"
      ],
      "metadata": {
        "id": "9v4ovg4Ep0DE"
      },
      "execution_count": null,
      "outputs": []
    },
    {
      "cell_type": "code",
      "source": [
        "model = Sequential()\n",
        "model.add(Dense(1, input_dim=1))\n",
        "model.add(Dense(1, activation='linear'))\n",
        "model.compile(optimizer=keras.optimizers.Adam(learning_rate=0.2), loss='mse', metrics=['mse'])"
      ],
      "metadata": {
        "id": "pW3chbSKIH67"
      },
      "execution_count": null,
      "outputs": []
    },
    {
      "cell_type": "code",
      "source": [
        "model.fit(X, y, batch_size=1, epochs=40, shuffle=False)"
      ],
      "metadata": {
        "id": "5jQrEsmOINM6"
      },
      "execution_count": null,
      "outputs": []
    },
    {
      "cell_type": "code",
      "source": [
        "pred = model.predict(X)"
      ],
      "metadata": {
        "id": "VaXW6apmIRTq"
      },
      "execution_count": null,
      "outputs": []
    },
    {
      "cell_type": "code",
      "source": [
        "plt.scatter(X, y, c='blue')\n",
        "plt.plot(X, pred, color='g')\n",
        "plt.show()\n",
        "\n",
        "print(pred)\n",
        "print(y)"
      ],
      "metadata": {
        "id": "eyVUQCcGIV9K"
      },
      "execution_count": null,
      "outputs": []
    },
    {
      "cell_type": "code",
      "source": [
        "# import keras\n",
        "from tensorflow import keras\n",
        "from keras.models import Sequential\n",
        "from keras.layers import Dense\n",
        "from keras.models import Model\n",
        "import numpy as np\n",
        "import matplotlib.pyplot as plt\n",
        "\n",
        "X = np.array([-10, 0, 2, 6, 12, 15], dtype=float)\n",
        "y = X + 6\n",
        " \n",
        "plt.plot(X, y, \"rx\") \n",
        "plt.show()"
      ],
      "metadata": {
        "id": "zRegZxbMKGtm"
      },
      "execution_count": null,
      "outputs": []
    },
    {
      "cell_type": "code",
      "source": [
        "model = Sequential()\n",
        "model.add(Dense(1, input_dim=1))\n",
        "model.add(Dense(1, activation='linear'))\n",
        "model.compile(optimizer=keras.optimizers.RMSprop(learning_rate=0.1), loss='mse', metrics=['mse'])"
      ],
      "metadata": {
        "id": "2y7LEZ2AKL_a"
      },
      "execution_count": null,
      "outputs": []
    },
    {
      "cell_type": "code",
      "source": [
        "model.fit(X, y, batch_size=5, epochs=20, shuffle=False)"
      ],
      "metadata": {
        "id": "ZBiH7x2gKNT8"
      },
      "execution_count": null,
      "outputs": []
    },
    {
      "cell_type": "code",
      "source": [
        "pred = model.predict(X)\n",
        "plt.scatter(X, y, c='blue')\n",
        "plt.plot(X, pred, color='g')\n",
        "plt.show()\n",
        "\n",
        "print(pred)\n",
        "print(y)"
      ],
      "metadata": {
        "id": "UMTDDTudKRic"
      },
      "execution_count": null,
      "outputs": []
    },
    {
      "cell_type": "markdown",
      "source": [
        "### Visualization"
      ],
      "metadata": {
        "id": "AsuncSSPLCHL"
      }
    },
    {
      "cell_type": "code",
      "source": [
        "inputs = Input(shape=(3,), name='i1')\n",
        "preds = Dense(1,activation='linear', use_bias=True, name='f1')(inputs)\n",
        "preds = Dense(2,activation='linear', use_bias=True, name='f1')(inputs)\n",
        "model = Model(inputs=inputs,outputs=preds)\n",
        "model.compile(optimizer=keras.optimizers.SGD(lr=0.01), loss='mse', metrics=['mse'])"
      ],
      "metadata": {
        "id": "d5gl-iKlLAfK"
      },
      "execution_count": null,
      "outputs": []
    },
    {
      "cell_type": "code",
      "source": [
        "print(model.summary())"
      ],
      "metadata": {
        "id": "DPC6aMFmLGCr"
      },
      "execution_count": null,
      "outputs": []
    },
    {
      "cell_type": "code",
      "source": [
        "from keras.utils.vis_utils import plot_model\n",
        "plot_model(model, to_file='model_plot.png', show_shapes=True, show_layer_names=True)"
      ],
      "metadata": {
        "id": "wG3ddjxJLKlL"
      },
      "execution_count": null,
      "outputs": []
    },
    {
      "cell_type": "markdown",
      "source": [
        "### Linear binary classification"
      ],
      "metadata": {
        "id": "_e7x5_BsQzFS"
      }
    },
    {
      "cell_type": "code",
      "source": [
        "#   Imports\n",
        "from sklearn.datasets import make_blobs\n",
        "import numpy as np\n",
        "import matplotlib.pyplot as plt\n",
        "\n",
        "# Helper functions\n",
        "#   plot the data on a figure\n",
        "def plot_data(pl, X, y):\n",
        "    # plot class where y==0\n",
        "    pl.plot(X[y==0, 0], X[y==0, 1], 'ob', alpha=0.5)\n",
        "    # plot class where y==1\n",
        "    pl.plot(X[y==1, 0], X[y==1, 1], 'xr', alpha=0.5)\n",
        "    # add the legend     \n",
        "    pl.legend(['0', '1'])\n",
        "    return pl\n",
        "    \n",
        "#   Common function that draws the decision boundaries\n",
        "def plot_decision_boundary(model, X, y):\n",
        "#     # Let's understand this function\n",
        "#     # - What is X ?\n",
        "#     print(\"--------------X--------------\")\n",
        "#     print(X) # seems like coordinates for the datapoints\n",
        "#     # - What is y ?\n",
        "#     print(\"--------------y--------------\")\n",
        "#     print(y) # seems categories, we have two in this case\n",
        "#     # - What is model ?\n",
        "#     print(\"--------------model--------------\")\n",
        "#     print(model) # just an object representing our Sequential model\n",
        "    \n",
        "    # what is this amin, amax?\n",
        "    amin, bmin = X.min(axis=0) - 0.1\n",
        "    amax, bmax = X.max(axis=0) + 0.1\n",
        "#     print(\"--------------amin and amax--------------\")\n",
        "#     print(amin)\n",
        "#     print(amax)\n",
        "#     print(\"--------------bmin and bmax--------------\")\n",
        "#     print(bmin)\n",
        "#     print(bmax)\n",
        "    \n",
        "    # what are these ticks?\n",
        "    hticks = np.linspace(amin, amax, 101)\n",
        "    vticks = np.linspace(bmin, bmax, 101)\n",
        "#     print(\"--------------vticks--------------\")\n",
        "#     print(vticks) # seems like vticks is the Y axis marks\n",
        "\n",
        "    # Generate the coordinates for the meshgrid\n",
        "    aa, bb = np.meshgrid(hticks, vticks)\n",
        "    ab = np.c_[aa.ravel(), bb.ravel()]\n",
        "    \n",
        "    # make prediction with the model and reshape the output so contourf can plot it\n",
        "    c = model.predict(ab)\n",
        "    Z = c.reshape(aa.shape)\n",
        "\n",
        "\n",
        "#     plt.figure(figsize=(12, 8))\n",
        "    # plot the contour\n",
        "    plt.contourf(aa, bb, Z, cmap='bwr', alpha=0.2)\n",
        "#     print(\"--------------c.shape--------------\")\n",
        "#     print(c.shape)\n",
        "#     print(\"-----------------------------\")\n",
        "    # plot data\n",
        "    plot_data(plt, X, y)\n",
        "    \n",
        "    #     print(\"-------------- ab --> c --------------\")\n",
        "    # for i in range(len(ab)):\n",
        "    #     if i % 10 == 0 and i > 1000:\n",
        "    #         print(ab[i], end='')\n",
        "    #         print(c[i])\n",
        "\n",
        "    return plt\n",
        "\n",
        "\n",
        "# Generate some data blobs.  Data will be either 0 or 1 when 2 is number of centers.\n",
        "# X is a [number of samples, 2] sized array. X[sample] contains its x,y position of the sample in the space\n",
        "# ex: X[1] = [1.342, -2.3], X[2] = [-4.342, 2.12]\n",
        "# y is a [number of samples] sized array. y[sample] contains the class index (ie. 0 or 1 when there are 2 centers)\n",
        "# ex: y[1] = 0 , y[1] = 1\n",
        "X, y = make_blobs(n_samples=1000, centers=2, random_state=42)\n",
        "\n",
        "pl = plot_data(plt, X, y)\n",
        "pl.show()"
      ],
      "metadata": {
        "id": "3-k8v5zlQx7W"
      },
      "execution_count": null,
      "outputs": []
    },
    {
      "cell_type": "code",
      "source": [
        "# Split the data into Training and Test sets\n",
        "from sklearn.model_selection import train_test_split\n",
        "X_train, X_test, y_train, y_test = train_test_split(X, y, test_size=0.3, random_state=42)"
      ],
      "metadata": {
        "id": "0yCWYM1vRBR9"
      },
      "execution_count": null,
      "outputs": []
    },
    {
      "cell_type": "code",
      "source": [
        "# Create the keras model\n",
        "# ... use these imports if you are using standalone keras\n",
        "# from keras.models import Sequential\n",
        "# from keras.layers import Dense\n",
        "# from keras.optimizers import Adam\n",
        "\n",
        "# ... use these imports if you are using Keras that comes from tensorflow\n",
        "from tensorflow.keras.models import Sequential\n",
        "from tensorflow.keras.layers import Dense\n",
        "from tensorflow.keras.optimizers import Adam\n",
        "\n",
        "\n",
        "#   Simple Sequential model\n",
        "model = Sequential()\n",
        "#   Add a Dense Fully Connected Layer with 1 neuron.  Using input_shape = (2,) says the input will \n",
        "#       be arrays of the form (*,2).  The first dimension will be an unspecified \n",
        "#       number of batches (rows) of data.  The second dimension is 2 which are the X, Y positions of each data element.\n",
        "#       The sigmoid activation function is used to return 0 or 1, signifying the data \n",
        "#       cluster the position is predicted to belong to.\n",
        "model.add(Dense(1, input_shape=(2,), activation=\"sigmoid\"))\n",
        "#   Compile the model.  Minimize crossentopy for a binary.  Maximize for accuracy\n",
        "model.compile(Adam(lr=0.05), 'binary_crossentropy', metrics=['accuracy'])"
      ],
      "metadata": {
        "id": "Z6DiZn-9RWq9"
      },
      "execution_count": null,
      "outputs": []
    },
    {
      "cell_type": "code",
      "source": [
        "#   Fit the model with the data from make_blobs.  Make 100 cycles through the data.\n",
        "#       Set verbose to 0 to supress progress messages \n",
        "model.fit(X_train, y_train, epochs=100, verbose=1)"
      ],
      "metadata": {
        "id": "U0U2XlJMReoH"
      },
      "execution_count": null,
      "outputs": []
    },
    {
      "cell_type": "code",
      "source": [
        "#   Get loss and accuracy on test data\n",
        "eval_result = model.evaluate(X_test, y_test)\n",
        "#   Print test accuracy\n",
        "print(\"\\n\\nTest loss:\", eval_result[0], \"Test accuracy:\", eval_result[1])\n",
        "#   Plot the decision boundary\n",
        "# we will turn on the interactive mode so we could see the x and y coordinates\n",
        "# %matplotlib notebook # don't uncomment this \n",
        "plot_decision_boundary(model, X, y).show()\n",
        "# plot_decision_boundary(model, X_train, y_train).show()\n",
        "# plot_decision_boundary(model, X_test, y_test).show()"
      ],
      "metadata": {
        "id": "FIwj44-fR-2O"
      },
      "execution_count": null,
      "outputs": []
    },
    {
      "cell_type": "code",
      "source": [
        "from tensorflow.keras.models import Sequential\n",
        "from tensorflow.keras.layers import Dense\n",
        "from tensorflow.keras.optimizers import Adam\n",
        "\n",
        "model = Sequential()\n",
        "model.add(Dense(1, input_shape=(2,), activation=\"linear\"))\n",
        "model.compile(Adam(lr=0.05), 'binary_crossentropy', metrics=['accuracy'])\n",
        "\n",
        "model.fit(X_train, y_train, epochs=3, verbose=1)"
      ],
      "metadata": {
        "id": "mcDty0IIWsJF"
      },
      "execution_count": null,
      "outputs": []
    },
    {
      "cell_type": "code",
      "source": [
        "eval_result = model.evaluate(X_test, y_test)\n",
        "print(\"\\n\\nTest loss:\", eval_result[0], \"Test accuracy:\", eval_result[1])\n",
        "plot_decision_boundary(model, X, y).show()"
      ],
      "metadata": {
        "id": "nfiQc3-NY4Wh"
      },
      "execution_count": null,
      "outputs": []
    },
    {
      "cell_type": "code",
      "source": [
        "from tensorflow.keras.models import Sequential\n",
        "from tensorflow.keras.layers import Dense\n",
        "from tensorflow.keras.optimizers import Adam\n",
        "\n",
        "model = Sequential()\n",
        "model.add(Dense(1, input_shape=(2,), activation=\"sigmoid\"))\n",
        "model.compile(Adam(lr=0.05), 'binary_crossentropy', metrics=['accuracy'])\n",
        "\n",
        "model.fit(X_train, y_train, epochs=3, verbose=0)"
      ],
      "metadata": {
        "id": "-SFDwczsZ1Bz"
      },
      "execution_count": null,
      "outputs": []
    },
    {
      "cell_type": "code",
      "source": [
        "eval_result = model.evaluate(X_test, y_test)\n",
        "print(\"\\n\\nTest loss:\", eval_result[0], \"Test accuracy:\", eval_result[1])\n",
        "plot_decision_boundary(model, X, y).show()"
      ],
      "metadata": {
        "id": "ziBrUI4ZZ2tf"
      },
      "execution_count": null,
      "outputs": []
    },
    {
      "cell_type": "code",
      "source": [
        "from tensorflow.keras.models import Sequential\n",
        "from tensorflow.keras.layers import Dense\n",
        "from tensorflow.keras.optimizers import Adam\n",
        "\n",
        "model = Sequential()\n",
        "model.add(Dense(1, input_shape=(2,), activation=\"linear\"))\n",
        "model.compile(SGD(lr=0.05), 'binary_crossentropy', metrics=['accuracy'])\n",
        "\n",
        "model.fit(X_train, y_train, epochs=3, verbose=0)"
      ],
      "metadata": {
        "id": "LPs3XWULbMZp"
      },
      "execution_count": null,
      "outputs": []
    },
    {
      "cell_type": "code",
      "source": [
        "eval_result = model.evaluate(X_test, y_test)\n",
        "print(\"\\n\\nTest loss:\", eval_result[0], \"Test accuracy:\", eval_result[1])\n",
        "plot_decision_boundary(model, X, y).show()"
      ],
      "metadata": {
        "id": "o6XN5meUbcTx"
      },
      "execution_count": null,
      "outputs": []
    },
    {
      "cell_type": "code",
      "source": [
        "import numpy as np\n",
        "from scipy import stats\n",
        "import matplotlib.pyplot as plt\n",
        "\n",
        "\n",
        "fig, ax = plt.subplots(1, 2, figsize=(20, 3))\n",
        "ax = ax.ravel()\n",
        "\n",
        "for i, metric in enumerate([\"accuracy\", \"loss\"]):\n",
        "    ax[i].plot(hist.history[metric])\n",
        "    ax[i].set_title(\"Model {}\".format(metric))\n",
        "    ax[i].set_xlabel(\"epochs\")\n",
        "    ax[i].set_ylabel(metric)\n",
        "    ax[i].legend([\"train\", \"val\"])"
      ],
      "metadata": {
        "id": "lmVEzlHlddu-"
      },
      "execution_count": null,
      "outputs": []
    },
    {
      "cell_type": "code",
      "source": [
        "from sklearn.datasets import make_circles\n",
        "import numpy as np\n",
        "import matplotlib.pyplot as plt\n",
        "\n",
        "\n",
        "#   Helper functions\n",
        "\n",
        "#   plot the data on a figure\n",
        "def plot_data(pl, X, y):\n",
        "    # plot class where y==0\n",
        "    pl.plot(X[y==0, 0], X[y==0,1], 'ob', alpha=0.5)\n",
        "    # plot class where y==1\n",
        "    pl.plot(X[y==1, 0], X[y==1,1], 'xr', alpha=0.5)\n",
        "    pl.legend(['0', '1'])\n",
        "    return pl\n",
        "\n",
        "#   Common function that draws the decision boundaries\n",
        "def plot_decision_boundary(model, X, y):\n",
        "\n",
        "    amin, bmin = X.min(axis=0) - 0.1\n",
        "    amax, bmax = X.max(axis=0) + 0.1\n",
        "    hticks = np.linspace(amin, amax, 101)\n",
        "    vticks = np.linspace(bmin, bmax, 101)\n",
        "    \n",
        "    aa, bb = np.meshgrid(hticks, vticks)\n",
        "    ab = np.c_[aa.ravel(), bb.ravel()]\n",
        "\n",
        "    c = model.predict(ab)\n",
        "    Z = c.reshape(aa.shape)\n",
        "\n",
        "    plt.figure(figsize=(12, 8))\n",
        "    plt.contourf(aa, bb, Z, cmap='bwr', alpha=0.2)\n",
        "    plot_data(plt, X, y)\n",
        "\n",
        "    return plt\n",
        "\n",
        "\n",
        "# Generate some data blobs.  Data will be either 0 or 1 when 2 is number of centers.\n",
        "# X is a [number of samples, 2] sized array. X[sample] contains its x,y position of the sample in the space\n",
        "# ex: X[1] = [1.342, -2.3], X[2] = [-4.342, 2.12]\n",
        "# y is a [number of samples] sized array. y[sample] contains the class index (ie. 0 or 1 when there are 2 centers)\n",
        "# ex: y[1] = 0 , y[1] = 1\n",
        "X, y = make_circles(n_samples=1000, factor=.6, noise=0.1, random_state=42)\n",
        "pl = plot_data(plt, X, y)\n",
        "pl.show()"
      ],
      "metadata": {
        "id": "D_FXja0pfPu0"
      },
      "execution_count": null,
      "outputs": []
    },
    {
      "cell_type": "code",
      "source": [
        "# Split the data into Training and Test sets\n",
        "from sklearn.model_selection import train_test_split\n",
        "X_train, X_test, y_train, y_test = train_test_split(X, y, test_size=0.3, random_state=42)\n",
        "\n",
        "# ... use these imports if you are using Keras that comes from tensorflow\n",
        "from tensorflow.keras.models import Sequential\n",
        "from tensorflow.keras.layers import Dense\n",
        "from tensorflow.keras.optimizers import Adam\n",
        "\n",
        "\n",
        "#   Simple Sequential model\n",
        "model = Sequential()\n",
        "#   Add a Dense Fully Connected Layer with 1 neuron.  Using input_shape = (2,) says the input will \n",
        "#       be arrays of the form (*,2).  The first dimension will be an unspecified \n",
        "#       number of batches (rows) of data.  The second dimension is 2 which are the X, Y positions of each data element.\n",
        "#       The sigmoid activation function is used to return 0 or 1, signifying the data \n",
        "#       cluster the position is predicted to belong to.\n",
        "model.add(Dense(1, input_shape=(2,), activation=\"sigmoid\"))\n",
        "#   Compile the model.  Minimize crossentopy for a binary.  Maximize for accuracy\n",
        "model.compile(Adam(lr=0.05), 'binary_crossentropy', metrics=['accuracy'])"
      ],
      "metadata": {
        "id": "UkbyqCa2f3Z2"
      },
      "execution_count": null,
      "outputs": []
    },
    {
      "cell_type": "code",
      "source": [
        "#   Fit the model with the data from make_blobs.  Make 100 cycles through the data.\n",
        "#       Set verbose to 0 to supress progress messages \n",
        "model.fit(X_train, y_train, epochs=100, verbose=1)"
      ],
      "metadata": {
        "id": "Bvzs0HPYf8zF"
      },
      "execution_count": null,
      "outputs": []
    },
    {
      "cell_type": "code",
      "source": [
        "#   Get loss and accuracy on test data\n",
        "eval_result = model.evaluate(X_test, y_test)\n",
        "#   Print test accuracy\n",
        "print(\"\\n\\nTest loss:\", eval_result[0], \"Test accuracy:\", eval_result[1])\n",
        "#   Plot the decision boundary\n",
        "plot_decision_boundary(model, X, y).show()"
      ],
      "metadata": {
        "id": "fvy7A9tff-tR"
      },
      "execution_count": null,
      "outputs": []
    },
    {
      "cell_type": "code",
      "source": [
        "# Split the data into Training and Test sets\n",
        "from sklearn.model_selection import train_test_split\n",
        "X_train, X_test, y_train, y_test = train_test_split(X, y, test_size=0.3, random_state=42)\n",
        "\n",
        "# Create the keras model\n",
        "from tensorflow.keras.models import Sequential\n",
        "from tensorflow.keras.layers import Dense\n",
        "from tensorflow.keras.optimizers import Adam\n",
        "\n",
        "#   Simple Sequential model\n",
        "model = Sequential()\n",
        "\n",
        "# REMEMBER: the first layer needs to define the shape of the input data: input_shape=(2,)\n",
        "model.add(Dense(4, input_shape=(2,), activation=\"tanh\", name=\"Hidden-1\"))\n",
        "model.add(Dense(4, activation=\"tanh\", name=\"Hidden-2\"))\n",
        "#   Add a Dense Fully Connected Layer with 1 neuron.  Using input_shape = (2,) says the input will \n",
        "#       be arrays of the form (*,2).  The first dimension will be an unspecified \n",
        "#       number of batches (rows) of data.  The second dimension is 2 which are the X, Y positions of each data element.\n",
        "#       The sigmoid activation function is used to return 0 or 1, signifying the data \n",
        "#       cluster the position is predicted to belong to.\n",
        "model.add(Dense(1, activation=\"sigmoid\", name=\"output_layer\"))\n",
        "model.summary()\n",
        "#   Compile the model.  Minimize crossentopy for a binary.  Maximize for accuracy\n",
        "model.compile(Adam(lr=0.05), 'binary_crossentropy', metrics=['accuracy'])"
      ],
      "metadata": {
        "id": "UHi1pUsjgM3u"
      },
      "execution_count": null,
      "outputs": []
    },
    {
      "cell_type": "code",
      "source": [
        "from tensorflow.keras.utils import plot_model\n",
        "plot_model(model, to_file=\"model.png\", show_shapes=True, show_layer_names=True)\n",
        "# ATTENTION: Failed to import pydot. You must install pydot and graphviz for `pydotprint` to work.\n",
        "# Pip is not enoungh, need: https://graphviz.gitlab.io/download/ --> best for windows: choco install graphviz"
      ],
      "metadata": {
        "id": "NHBTrS3fgSzF"
      },
      "execution_count": null,
      "outputs": []
    },
    {
      "cell_type": "markdown",
      "source": [
        "### Callback, early stopping"
      ],
      "metadata": {
        "id": "HqXVPycahPnJ"
      }
    },
    {
      "cell_type": "code",
      "source": [
        "#   Define early stopping callback\n",
        "from tensorflow.keras.callbacks import EarlyStopping\n",
        "my_callbacks = [EarlyStopping(monitor='val_acc', patience=5, mode='max')]\n",
        "\n",
        "#   Fit the model with the data from make_blobs.  Make 100 cycles through the data.\n",
        "#       Set verbose to 0 to supress progress messages \n",
        "model.fit(X_train, y_train, epochs=100, verbose=1, callbacks=my_callbacks, validation_data=(X_test, y_test))"
      ],
      "metadata": {
        "id": "6tVgCY7zhP5z"
      },
      "execution_count": null,
      "outputs": []
    },
    {
      "cell_type": "code",
      "source": [
        "plot_decision_boundary(model, X, y).show()"
      ],
      "metadata": {
        "id": "aTXF6KqDiJSU"
      },
      "execution_count": null,
      "outputs": []
    },
    {
      "cell_type": "markdown",
      "source": [
        "### Functional API"
      ],
      "metadata": {
        "id": "arb37zORm-jl"
      }
    },
    {
      "cell_type": "code",
      "source": [
        ""
      ],
      "metadata": {
        "id": "BwEc7Wk2nDjb"
      },
      "execution_count": null,
      "outputs": []
    },
    {
      "cell_type": "markdown",
      "source": [
        "### Tensorboard"
      ],
      "metadata": {
        "id": "2iJCktXFpWwe"
      }
    },
    {
      "cell_type": "code",
      "source": [
        "from tensorflow import keras\n",
        "from keras.layers import Input\n",
        "from keras.layers import Dense\n",
        "from keras.models import Model\n",
        "import numpy as np\n",
        "import matplotlib.pyplot as plt\n",
        "from keras.callbacks import TensorBoard\n",
        "import datetime\n",
        "\n",
        "%load_ext tensorboard\n",
        "\n",
        "!rm -rf ./tmp\n",
        "# !rm -rf ./logs\n",
        "\n",
        "X = np.array([-10, 0, 2, 6, 12, 15], dtype=float)\n",
        "y = X + 6\n",
        "\n",
        "log_dir = \"./logs/\" + datetime.datetime.now().strftime(\"%Y%m%d-%H%M%S\")\n",
        "tensorboard_callback = TensorBoard(log_dir=log_dir, histogram_freq=1)\n",
        "\n",
        "inputs = Input(shape=(1,), name='scope_1/layer_1')\n",
        "preds = Dense(1,activation='linear', name='scope_1/layer_2')(inputs)\n",
        "model = Model(inputs=inputs,outputs=preds)\n",
        "sgd=keras.optimizers.SGD()\n",
        "model.compile(optimizer=sgd, loss='mse',metrics=['mse'])\n",
        "model.fit(X,y, batch_size=63, epochs=15, shuffle=False, callbacks=[tensorboard_callback])"
      ],
      "metadata": {
        "id": "bRvA_HhxpY22"
      },
      "execution_count": null,
      "outputs": []
    },
    {
      "cell_type": "code",
      "source": [
        "# You can use it once in collab. For that you need to uncomment the next line\n",
        "%tensorboard --logdir ./logs/\n",
        "\n",
        "# Don't run this in juputer notebook, use cli in admin mode and use the same command"
      ],
      "metadata": {
        "id": "svComiy6ph60"
      },
      "execution_count": null,
      "outputs": []
    }
  ]
}