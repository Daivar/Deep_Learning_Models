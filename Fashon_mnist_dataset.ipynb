{
  "nbformat": 4,
  "nbformat_minor": 0,
  "metadata": {
    "colab": {
      "name": "Fashon_mnist_dataset.ipynb",
      "provenance": [],
      "authorship_tag": "ABX9TyM1PkLdNQ4gL9GrLOlygW+2",
      "include_colab_link": true
    },
    "kernelspec": {
      "name": "python3",
      "display_name": "Python 3"
    },
    "language_info": {
      "name": "python"
    }
  },
  "cells": [
    {
      "cell_type": "markdown",
      "metadata": {
        "id": "view-in-github",
        "colab_type": "text"
      },
      "source": [
        "<a href=\"https://colab.research.google.com/github/Daivar/Deep_Learning_Models/blob/main/Fashon_mnist_dataset.ipynb\" target=\"_parent\"><img src=\"https://colab.research.google.com/assets/colab-badge.svg\" alt=\"Open In Colab\"/></a>"
      ]
    },
    {
      "cell_type": "code",
      "execution_count": 1,
      "metadata": {
        "colab": {
          "base_uri": "https://localhost:8080/"
        },
        "id": "uR4uAffjPEFb",
        "outputId": "7e4adaae-a656-4bdc-b8cf-b7de2793643f"
      },
      "outputs": [
        {
          "output_type": "stream",
          "name": "stdout",
          "text": [
            "2.7.0\n",
            "2.7.0\n",
            "Num GPUs Available:  0\n",
            "Downloading data from https://storage.googleapis.com/tensorflow/tf-keras-datasets/train-labels-idx1-ubyte.gz\n",
            "32768/29515 [=================================] - 0s 0us/step\n",
            "40960/29515 [=========================================] - 0s 1us/step\n",
            "Downloading data from https://storage.googleapis.com/tensorflow/tf-keras-datasets/train-images-idx3-ubyte.gz\n",
            "26427392/26421880 [==============================] - 0s 0us/step\n",
            "26435584/26421880 [==============================] - 0s 0us/step\n",
            "Downloading data from https://storage.googleapis.com/tensorflow/tf-keras-datasets/t10k-labels-idx1-ubyte.gz\n",
            "16384/5148 [===============================================================================================] - 0s 0us/step\n",
            "Downloading data from https://storage.googleapis.com/tensorflow/tf-keras-datasets/t10k-images-idx3-ubyte.gz\n",
            "4423680/4422102 [==============================] - 0s 0us/step\n",
            "4431872/4422102 [==============================] - 0s 0us/step\n",
            "(60000, 28, 28)\n",
            "(60000,)\n",
            "(10000, 28, 28)\n",
            "(10000,)\n"
          ]
        }
      ],
      "source": [
        "import tensorflow as tf\n",
        "from tensorflow import keras\n",
        "import pandas as pd\n",
        "import numpy as np\n",
        "import matplotlib.pyplot as plt\n",
        "\n",
        "print(tf.__version__)\n",
        "print(keras.__version__)\n",
        "\n",
        "import tensorflow as tf\n",
        "print(\"Num GPUs Available: \", len(tf.config.experimental.list_physical_devices('GPU')))\n",
        "\n",
        "fashion_mnist = keras.datasets.fashion_mnist\n",
        "(X_train_full, y_train_full),(X_test, y_test) = fashion_mnist.load_data()\n",
        "\n",
        "print(X_train_full.shape)\n",
        "print(y_train_full.shape)\n",
        "print(X_test.shape)\n",
        "print(y_test.shape)"
      ]
    },
    {
      "cell_type": "code",
      "source": [
        "X_valid, X_train = X_train_full[:5000] / 255., X_train_full[5000:] / 255.\n",
        "y_valid, y_train = y_train_full[:5000], y_train_full[5000:]\n",
        "X_test = X_test / 255."
      ],
      "metadata": {
        "id": "KP-CESn-PTY7"
      },
      "execution_count": 2,
      "outputs": []
    },
    {
      "cell_type": "code",
      "source": [
        "plt.imshow(X_train[0], cmap=\"binary\")\n",
        "plt.axis('off')\n",
        "plt.show()"
      ],
      "metadata": {
        "colab": {
          "base_uri": "https://localhost:8080/",
          "height": 247
        },
        "id": "e2BoPAKmPauc",
        "outputId": "002aeb30-fc6d-46a8-cfdb-f0f73f454613"
      },
      "execution_count": 3,
      "outputs": [
        {
          "output_type": "display_data",
          "data": {
            "image/png": "[encoded data removed]",
            "text/plain": [
              "<Figure size 432x288 with 1 Axes>"
            ]
          },
          "metadata": {
            "needs_background": "light"
          }
        }
      ]
    },
    {
      "cell_type": "code",
      "source": [
        "class_names = [\"T-shirt/top\", \"Trouser\", \"Pullover\", \"Dress\", \"Coat\",\n",
        "               \"Sandal\", \"Shirt\", \"Sneaker\", \"Bag\", \"Ankle boot\"]\n",
        "class_names[y_train[1]]"
      ],
      "metadata": {
        "colab": {
          "base_uri": "https://localhost:8080/",
          "height": 36
        },
        "id": "zNPA75SZPeI_",
        "outputId": "74c34eae-c8e7-4bce-afca-9080ccacce9e"
      },
      "execution_count": 4,
      "outputs": [
        {
          "output_type": "execute_result",
          "data": {
            "application/vnd.google.colaboratory.intrinsic+json": {
              "type": "string"
            },
            "text/plain": [
              "'T-shirt/top'"
            ]
          },
          "metadata": {},
          "execution_count": 4
        }
      ]
    },
    {
      "cell_type": "code",
      "source": [
        "n_rows = 4\n",
        "n_cols = 10\n",
        "plt.figure(figsize=(n_cols * 2, n_rows * 2))\n",
        "for row in range(n_rows):\n",
        "    for col in range(n_cols):\n",
        "        index = n_cols * row + col\n",
        "        plt.subplot(n_rows, n_cols, index + 1)\n",
        "        plt.imshow(X_train[index], cmap=\"binary\", interpolation=\"nearest\")\n",
        "        plt.axis('off')\n",
        "        plt.title(class_names[y_train[index]], fontsize=12)\n",
        "plt.subplots_adjust(wspace=0.2, hspace=0.5)\n",
        "plt.show()"
      ],
      "metadata": {
        "colab": {
          "base_uri": "https://localhost:8080/",
          "height": 482
        },
        "id": "scw1eQ_BPitc",
        "outputId": "30ca82c4-d786-4955-b429-83edd2122aec"
      },
      "execution_count": 5,
      "outputs": [
        {
          "output_type": "display_data",
          "data": {
            "image/png": "[encoded data removed]",
            "text/plain": [
              "<Figure size 1440x576 with 40 Axes>"
            ]
          },
          "metadata": {
            "needs_background": "light"
          }
        }
      ]
    },
    {
      "cell_type": "code",
      "source": [
        "model = keras.models.Sequential([\n",
        "    keras.layers.Flatten(input_shape=[28, 28]),\n",
        "    keras.layers.Dense(300, activation=\"relu\"),\n",
        "    keras.layers.Dense(100, activation=\"relu\"),\n",
        "    keras.layers.Dense(10, activation=\"softmax\")\n",
        "])\n",
        "\n",
        "model.summary()"
      ],
      "metadata": {
        "colab": {
          "base_uri": "https://localhost:8080/"
        },
        "id": "j-ECc7r4PnDM",
        "outputId": "11aef88b-5a19-448b-95ad-70eaca0fec03"
      },
      "execution_count": 6,
      "outputs": [
        {
          "output_type": "stream",
          "name": "stdout",
          "text": [
            "Model: \"sequential\"\n",
            "_________________________________________________________________\n",
            " Layer (type)                Output Shape              Param #   \n",
            "=================================================================\n",
            " flatten (Flatten)           (None, 784)               0         \n",
            "                                                                 \n",
            " dense (Dense)               (None, 300)               235500    \n",
            "                                                                 \n",
            " dense_1 (Dense)             (None, 100)               30100     \n",
            "                                                                 \n",
            " dense_2 (Dense)             (None, 10)                1010      \n",
            "                                                                 \n",
            "=================================================================\n",
            "Total params: 266,610\n",
            "Trainable params: 266,610\n",
            "Non-trainable params: 0\n",
            "_________________________________________________________________\n"
          ]
        }
      ]
    },
    {
      "cell_type": "code",
      "source": [
        "weights, biases = model.layers[1].get_weights()\n",
        "weights"
      ],
      "metadata": {
        "colab": {
          "base_uri": "https://localhost:8080/"
        },
        "id": "vtihCxyyPrdt",
        "outputId": "bc5403e7-45bc-49ea-bb6b-9919796bb2d0"
      },
      "execution_count": 7,
      "outputs": [
        {
          "output_type": "execute_result",
          "data": {
            "text/plain": [
              "array([[ 0.04721863,  0.01153429, -0.05517413, ...,  0.06547086,\n",
              "         0.0324688 , -0.05010669],\n",
              "       [-0.05840222, -0.01842912,  0.01278672, ...,  0.02686696,\n",
              "        -0.03702381, -0.06056218],\n",
              "       [ 0.03215859, -0.01522781, -0.00662429, ...,  0.02300454,\n",
              "        -0.03758582, -0.0040736 ],\n",
              "       ...,\n",
              "       [ 0.04243419, -0.02868605, -0.02089071, ...,  0.0650648 ,\n",
              "         0.06731203,  0.02884205],\n",
              "       [ 0.06645453,  0.01523749,  0.01046833, ...,  0.03679645,\n",
              "         0.01468857,  0.05730338],\n",
              "       [-0.06996749, -0.06478845, -0.05458809, ...,  0.05782638,\n",
              "         0.03808839,  0.05113465]], dtype=float32)"
            ]
          },
          "metadata": {},
          "execution_count": 7
        }
      ]
    },
    {
      "cell_type": "code",
      "source": [
        "biases"
      ],
      "metadata": {
        "colab": {
          "base_uri": "https://localhost:8080/"
        },
        "id": "Z9Dd66gCPuiQ",
        "outputId": "3044bae7-0bd1-4c00-bcdc-5d71e61fc274"
      },
      "execution_count": 8,
      "outputs": [
        {
          "output_type": "execute_result",
          "data": {
            "text/plain": [
              "array([0., 0., 0., 0., 0., 0., 0., 0., 0., 0., 0., 0., 0., 0., 0., 0., 0.,\n",
              "       0., 0., 0., 0., 0., 0., 0., 0., 0., 0., 0., 0., 0., 0., 0., 0., 0.,\n",
              "       0., 0., 0., 0., 0., 0., 0., 0., 0., 0., 0., 0., 0., 0., 0., 0., 0.,\n",
              "       0., 0., 0., 0., 0., 0., 0., 0., 0., 0., 0., 0., 0., 0., 0., 0., 0.,\n",
              "       0., 0., 0., 0., 0., 0., 0., 0., 0., 0., 0., 0., 0., 0., 0., 0., 0.,\n",
              "       0., 0., 0., 0., 0., 0., 0., 0., 0., 0., 0., 0., 0., 0., 0., 0., 0.,\n",
              "       0., 0., 0., 0., 0., 0., 0., 0., 0., 0., 0., 0., 0., 0., 0., 0., 0.,\n",
              "       0., 0., 0., 0., 0., 0., 0., 0., 0., 0., 0., 0., 0., 0., 0., 0., 0.,\n",
              "       0., 0., 0., 0., 0., 0., 0., 0., 0., 0., 0., 0., 0., 0., 0., 0., 0.,\n",
              "       0., 0., 0., 0., 0., 0., 0., 0., 0., 0., 0., 0., 0., 0., 0., 0., 0.,\n",
              "       0., 0., 0., 0., 0., 0., 0., 0., 0., 0., 0., 0., 0., 0., 0., 0., 0.,\n",
              "       0., 0., 0., 0., 0., 0., 0., 0., 0., 0., 0., 0., 0., 0., 0., 0., 0.,\n",
              "       0., 0., 0., 0., 0., 0., 0., 0., 0., 0., 0., 0., 0., 0., 0., 0., 0.,\n",
              "       0., 0., 0., 0., 0., 0., 0., 0., 0., 0., 0., 0., 0., 0., 0., 0., 0.,\n",
              "       0., 0., 0., 0., 0., 0., 0., 0., 0., 0., 0., 0., 0., 0., 0., 0., 0.,\n",
              "       0., 0., 0., 0., 0., 0., 0., 0., 0., 0., 0., 0., 0., 0., 0., 0., 0.,\n",
              "       0., 0., 0., 0., 0., 0., 0., 0., 0., 0., 0., 0., 0., 0., 0., 0., 0.,\n",
              "       0., 0., 0., 0., 0., 0., 0., 0., 0., 0., 0.], dtype=float32)"
            ]
          },
          "metadata": {},
          "execution_count": 8
        }
      ]
    },
    {
      "cell_type": "code",
      "source": [
        "%%time\n",
        "\n",
        "# All the loss functions are available here: \n",
        "# ... https://keras.io/api/losses/\n",
        "# ... CCE: https://keras.io/api/losses/probabilistic_losses/#categoricalcrossentropy-class\n",
        "# ... SCCE: https://keras.io/api/losses/probabilistic_losses/#sparsecategoricalcrossentropy-class \n",
        "\n",
        "model.compile(loss=\"sparse_categorical_crossentropy\", optimizer=\"sgd\", metrics=[\"accuracy\"])\n",
        "history = model.fit(X_train, y_train, epochs=30, validation_data=(X_valid, y_valid))"
      ],
      "metadata": {
        "colab": {
          "base_uri": "https://localhost:8080/"
        },
        "id": "jtDPuOZDPxye",
        "outputId": "c41fd528-90e6-4995-f11f-0919900e2dc0"
      },
      "execution_count": 9,
      "outputs": [
        {
          "output_type": "stream",
          "name": "stdout",
          "text": [
            "Epoch 1/30\n",
            "1719/1719 [==============================] - 8s 4ms/step - loss: 0.7165 - accuracy: 0.7687 - val_loss: 0.5226 - val_accuracy: 0.8220\n",
            "Epoch 2/30\n",
            "1719/1719 [==============================] - 8s 4ms/step - loss: 0.4879 - accuracy: 0.8289 - val_loss: 0.4432 - val_accuracy: 0.8486\n",
            "Epoch 3/30\n",
            "1719/1719 [==============================] - 8s 5ms/step - loss: 0.4417 - accuracy: 0.8439 - val_loss: 0.4191 - val_accuracy: 0.8544\n",
            "Epoch 4/30\n",
            "1719/1719 [==============================] - 7s 4ms/step - loss: 0.4147 - accuracy: 0.8539 - val_loss: 0.3964 - val_accuracy: 0.8638\n",
            "Epoch 5/30\n",
            "1719/1719 [==============================] - 8s 5ms/step - loss: 0.3956 - accuracy: 0.8599 - val_loss: 0.3837 - val_accuracy: 0.8648\n",
            "Epoch 6/30\n",
            "1719/1719 [==============================] - 8s 4ms/step - loss: 0.3791 - accuracy: 0.8652 - val_loss: 0.3810 - val_accuracy: 0.8648\n",
            "Epoch 7/30\n",
            "1719/1719 [==============================] - 7s 4ms/step - loss: 0.3667 - accuracy: 0.8689 - val_loss: 0.3726 - val_accuracy: 0.8696\n",
            "Epoch 8/30\n",
            "1719/1719 [==============================] - 7s 4ms/step - loss: 0.3544 - accuracy: 0.8737 - val_loss: 0.3652 - val_accuracy: 0.8722\n",
            "Epoch 9/30\n",
            "1719/1719 [==============================] - 7s 4ms/step - loss: 0.3446 - accuracy: 0.8756 - val_loss: 0.3581 - val_accuracy: 0.8782\n",
            "Epoch 10/30\n",
            "1719/1719 [==============================] - 6s 4ms/step - loss: 0.3344 - accuracy: 0.8811 - val_loss: 0.3469 - val_accuracy: 0.8748\n",
            "Epoch 11/30\n",
            "1719/1719 [==============================] - 7s 4ms/step - loss: 0.3266 - accuracy: 0.8831 - val_loss: 0.3496 - val_accuracy: 0.8764\n",
            "Epoch 12/30\n",
            "1719/1719 [==============================] - 7s 4ms/step - loss: 0.3186 - accuracy: 0.8855 - val_loss: 0.3428 - val_accuracy: 0.8798\n",
            "Epoch 13/30\n",
            "1719/1719 [==============================] - 7s 4ms/step - loss: 0.3112 - accuracy: 0.8883 - val_loss: 0.3273 - val_accuracy: 0.8836\n",
            "Epoch 14/30\n",
            "1719/1719 [==============================] - 7s 4ms/step - loss: 0.3041 - accuracy: 0.8907 - val_loss: 0.3314 - val_accuracy: 0.8814\n",
            "Epoch 15/30\n",
            "1719/1719 [==============================] - 7s 4ms/step - loss: 0.2982 - accuracy: 0.8919 - val_loss: 0.3432 - val_accuracy: 0.8760\n",
            "Epoch 16/30\n",
            "1719/1719 [==============================] - 7s 4ms/step - loss: 0.2921 - accuracy: 0.8941 - val_loss: 0.3219 - val_accuracy: 0.8858\n",
            "Epoch 17/30\n",
            "1719/1719 [==============================] - 7s 4ms/step - loss: 0.2863 - accuracy: 0.8962 - val_loss: 0.3143 - val_accuracy: 0.8884\n",
            "Epoch 18/30\n",
            "1719/1719 [==============================] - 7s 4ms/step - loss: 0.2809 - accuracy: 0.8985 - val_loss: 0.3065 - val_accuracy: 0.8914\n",
            "Epoch 19/30\n",
            "1719/1719 [==============================] - 7s 4ms/step - loss: 0.2747 - accuracy: 0.9010 - val_loss: 0.3074 - val_accuracy: 0.8886\n",
            "Epoch 20/30\n",
            "1719/1719 [==============================] - 8s 5ms/step - loss: 0.2704 - accuracy: 0.9033 - val_loss: 0.3053 - val_accuracy: 0.8892\n",
            "Epoch 21/30\n",
            "1719/1719 [==============================] - 7s 4ms/step - loss: 0.2656 - accuracy: 0.9038 - val_loss: 0.3079 - val_accuracy: 0.8884\n",
            "Epoch 22/30\n",
            "1719/1719 [==============================] - 7s 4ms/step - loss: 0.2601 - accuracy: 0.9069 - val_loss: 0.3081 - val_accuracy: 0.8862\n",
            "Epoch 23/30\n",
            "1719/1719 [==============================] - 7s 4ms/step - loss: 0.2569 - accuracy: 0.9067 - val_loss: 0.3173 - val_accuracy: 0.8848\n",
            "Epoch 24/30\n",
            "1719/1719 [==============================] - 7s 4ms/step - loss: 0.2521 - accuracy: 0.9091 - val_loss: 0.3101 - val_accuracy: 0.8880\n",
            "Epoch 25/30\n",
            "1719/1719 [==============================] - 7s 4ms/step - loss: 0.2481 - accuracy: 0.9102 - val_loss: 0.3066 - val_accuracy: 0.8900\n",
            "Epoch 26/30\n",
            "1719/1719 [==============================] - 7s 4ms/step - loss: 0.2435 - accuracy: 0.9121 - val_loss: 0.2960 - val_accuracy: 0.8934\n",
            "Epoch 27/30\n",
            "1719/1719 [==============================] - 7s 4ms/step - loss: 0.2390 - accuracy: 0.9140 - val_loss: 0.3001 - val_accuracy: 0.8902\n",
            "Epoch 28/30\n",
            "1719/1719 [==============================] - 7s 4ms/step - loss: 0.2361 - accuracy: 0.9145 - val_loss: 0.3036 - val_accuracy: 0.8874\n",
            "Epoch 29/30\n",
            "1719/1719 [==============================] - 7s 4ms/step - loss: 0.2319 - accuracy: 0.9157 - val_loss: 0.3174 - val_accuracy: 0.8868\n",
            "Epoch 30/30\n",
            "1719/1719 [==============================] - 6s 4ms/step - loss: 0.2278 - accuracy: 0.9175 - val_loss: 0.2952 - val_accuracy: 0.8948\n",
            "CPU times: user 4min 19s, sys: 16.4 s, total: 4min 35s\n",
            "Wall time: 4min 22s\n"
          ]
        }
      ]
    },
    {
      "cell_type": "code",
      "source": [
        "print(history.params)\n",
        "print(history.history.keys())\n"
      ],
      "metadata": {
        "colab": {
          "base_uri": "https://localhost:8080/"
        },
        "id": "BqhuzXQZUv6F",
        "outputId": "e0e1cb5e-6ffa-4cbc-e477-cc08e2a33080"
      },
      "execution_count": 10,
      "outputs": [
        {
          "output_type": "stream",
          "name": "stdout",
          "text": [
            "{'verbose': 1, 'epochs': 30, 'steps': 1719}\n",
            "dict_keys(['loss', 'accuracy', 'val_loss', 'val_accuracy'])\n"
          ]
        }
      ]
    },
    {
      "cell_type": "code",
      "source": [
        "history.history"
      ],
      "metadata": {
        "colab": {
          "base_uri": "https://localhost:8080/"
        },
        "id": "jsJOtFPuU7g8",
        "outputId": "8818568c-c63b-4280-ec6a-74d1c3053013"
      },
      "execution_count": 11,
      "outputs": [
        {
          "output_type": "execute_result",
          "data": {
            "text/plain": [
              "{'accuracy': [0.768745481967926,\n",
              "  0.8288727402687073,\n",
              "  0.8439090847969055,\n",
              "  0.8539454340934753,\n",
              "  0.8599091172218323,\n",
              "  0.8652363419532776,\n",
              "  0.8688908815383911,\n",
              "  0.8737090826034546,\n",
              "  0.8755818009376526,\n",
              "  0.8811272978782654,\n",
              "  0.8830909132957458,\n",
              "  0.885454535484314,\n",
              "  0.8883273005485535,\n",
              "  0.8906727433204651,\n",
              "  0.891945481300354,\n",
              "  0.8941272497177124,\n",
              "  0.8961818218231201,\n",
              "  0.8985272645950317,\n",
              "  0.9009636640548706,\n",
              "  0.9033454656600952,\n",
              "  0.9037636518478394,\n",
              "  0.9068545699119568,\n",
              "  0.9066727161407471,\n",
              "  0.9090545177459717,\n",
              "  0.9102181792259216,\n",
              "  0.9120727181434631,\n",
              "  0.9139636158943176,\n",
              "  0.9144545197486877,\n",
              "  0.9156727194786072,\n",
              "  0.9174545407295227],\n",
              " 'loss': [0.7164766192436218,\n",
              "  0.4879170060157776,\n",
              "  0.4417344033718109,\n",
              "  0.4147496819496155,\n",
              "  0.39560312032699585,\n",
              "  0.3791196346282959,\n",
              "  0.36672243475914,\n",
              "  0.35436174273490906,\n",
              "  0.34461480379104614,\n",
              "  0.3344019055366516,\n",
              "  0.32664626836776733,\n",
              "  0.3185795545578003,\n",
              "  0.31124407052993774,\n",
              "  0.30412161350250244,\n",
              "  0.29823023080825806,\n",
              "  0.29207801818847656,\n",
              "  0.28626611828804016,\n",
              "  0.2809320390224457,\n",
              "  0.2747460901737213,\n",
              "  0.2703726589679718,\n",
              "  0.26555702090263367,\n",
              "  0.26012012362480164,\n",
              "  0.25688832998275757,\n",
              "  0.25207385420799255,\n",
              "  0.24812020361423492,\n",
              "  0.24350707232952118,\n",
              "  0.23903357982635498,\n",
              "  0.23613986372947693,\n",
              "  0.23185694217681885,\n",
              "  0.22777415812015533],\n",
              " 'val_accuracy': [0.8220000267028809,\n",
              "  0.8485999703407288,\n",
              "  0.8543999791145325,\n",
              "  0.8637999892234802,\n",
              "  0.864799976348877,\n",
              "  0.864799976348877,\n",
              "  0.8695999979972839,\n",
              "  0.8722000122070312,\n",
              "  0.8781999945640564,\n",
              "  0.8748000264167786,\n",
              "  0.8763999938964844,\n",
              "  0.879800021648407,\n",
              "  0.8835999965667725,\n",
              "  0.8813999891281128,\n",
              "  0.8759999871253967,\n",
              "  0.8858000040054321,\n",
              "  0.8884000182151794,\n",
              "  0.8913999795913696,\n",
              "  0.8885999917984009,\n",
              "  0.88919997215271,\n",
              "  0.8884000182151794,\n",
              "  0.8862000107765198,\n",
              "  0.8848000168800354,\n",
              "  0.8880000114440918,\n",
              "  0.8899999856948853,\n",
              "  0.8934000134468079,\n",
              "  0.8902000188827515,\n",
              "  0.8873999714851379,\n",
              "  0.8867999911308289,\n",
              "  0.8948000073432922],\n",
              " 'val_loss': [0.5226267576217651,\n",
              "  0.4431533217430115,\n",
              "  0.4190908670425415,\n",
              "  0.39644402265548706,\n",
              "  0.38373515009880066,\n",
              "  0.38097429275512695,\n",
              "  0.3725863993167877,\n",
              "  0.3652381896972656,\n",
              "  0.3580637276172638,\n",
              "  0.3469369411468506,\n",
              "  0.3496428430080414,\n",
              "  0.3427886664867401,\n",
              "  0.3272925615310669,\n",
              "  0.3314312696456909,\n",
              "  0.3432450294494629,\n",
              "  0.32186102867126465,\n",
              "  0.3142596185207367,\n",
              "  0.30653366446495056,\n",
              "  0.30739977955818176,\n",
              "  0.3052641749382019,\n",
              "  0.3078780174255371,\n",
              "  0.30808132886886597,\n",
              "  0.3172627091407776,\n",
              "  0.3101271092891693,\n",
              "  0.3066239356994629,\n",
              "  0.29603272676467896,\n",
              "  0.30011868476867676,\n",
              "  0.30361106991767883,\n",
              "  0.3174390196800232,\n",
              "  0.2952350378036499]}"
            ]
          },
          "metadata": {},
          "execution_count": 11
        }
      ]
    },
    {
      "cell_type": "code",
      "source": [
        "pd.DataFrame(history.history).plot(figsize=(8, 5))\n",
        "plt.grid(True)\n",
        "plt.gca().set_ylim(0, 1)\n",
        "plt.show()"
      ],
      "metadata": {
        "colab": {
          "base_uri": "https://localhost:8080/",
          "height": 323
        },
        "id": "Uwh1HXxmU_6c",
        "outputId": "cb153a8d-df49-4120-9c41-0fbe14d1b7dd"
      },
      "execution_count": 12,
      "outputs": [
        {
          "output_type": "display_data",
          "data": {
            "image/png": "[encoded data removed]",
            "text/plain": [
              "<Figure size 576x360 with 1 Axes>"
            ]
          },
          "metadata": {
            "needs_background": "light"
          }
        }
      ]
    },
    {
      "cell_type": "code",
      "source": [
        "model.evaluate(X_test, y_test)"
      ],
      "metadata": {
        "colab": {
          "base_uri": "https://localhost:8080/"
        },
        "id": "k9s4RLxOVDkd",
        "outputId": "7be2aa87-6c81-4417-e064-13fda169caeb"
      },
      "execution_count": 13,
      "outputs": [
        {
          "output_type": "stream",
          "name": "stdout",
          "text": [
            "313/313 [==============================] - 1s 2ms/step - loss: 0.3283 - accuracy: 0.8851\n"
          ]
        },
        {
          "output_type": "execute_result",
          "data": {
            "text/plain": [
              "[0.32827281951904297, 0.8851000070571899]"
            ]
          },
          "metadata": {},
          "execution_count": 13
        }
      ]
    },
    {
      "cell_type": "code",
      "source": [
        "X_new = X_test[:3]\n",
        "print(X_new.shape) # take last 3 images\n",
        "y_proba = model.predict(X_new)\n",
        "y_proba.round(2)"
      ],
      "metadata": {
        "colab": {
          "base_uri": "https://localhost:8080/"
        },
        "id": "iGgriVBWVHjG",
        "outputId": "1a95c96a-f196-464f-b272-d8fe129dc2c2"
      },
      "execution_count": 14,
      "outputs": [
        {
          "output_type": "stream",
          "name": "stdout",
          "text": [
            "(3, 28, 28)\n"
          ]
        },
        {
          "output_type": "execute_result",
          "data": {
            "text/plain": [
              "array([[0.  , 0.  , 0.  , 0.  , 0.  , 0.01, 0.  , 0.01, 0.  , 0.99],\n",
              "       [0.  , 0.  , 1.  , 0.  , 0.  , 0.  , 0.  , 0.  , 0.  , 0.  ],\n",
              "       [0.  , 1.  , 0.  , 0.  , 0.  , 0.  , 0.  , 0.  , 0.  , 0.  ]],\n",
              "      dtype=float32)"
            ]
          },
          "metadata": {},
          "execution_count": 14
        }
      ]
    },
    {
      "cell_type": "code",
      "source": [
        "print(type(X_new))\n",
        "\n",
        "print(X_new.min())\n",
        "print(X_new.max())"
      ],
      "metadata": {
        "colab": {
          "base_uri": "https://localhost:8080/"
        },
        "id": "znfsDvknVLi0",
        "outputId": "9db8a0a6-804f-4de8-c075-66d720ed876e"
      },
      "execution_count": 15,
      "outputs": [
        {
          "output_type": "stream",
          "name": "stdout",
          "text": [
            "<class 'numpy.ndarray'>\n",
            "0.0\n",
            "1.0\n"
          ]
        }
      ]
    },
    {
      "cell_type": "code",
      "source": [
        "y_pred = np.argmax(y_proba, axis=-1)\n",
        "y_pred"
      ],
      "metadata": {
        "colab": {
          "base_uri": "https://localhost:8080/"
        },
        "id": "dPFgL8UcVOyM",
        "outputId": "f840b9f8-54d1-4062-93c1-9f06d784e223"
      },
      "execution_count": 16,
      "outputs": [
        {
          "output_type": "execute_result",
          "data": {
            "text/plain": [
              "array([9, 2, 1])"
            ]
          },
          "metadata": {},
          "execution_count": 16
        }
      ]
    },
    {
      "cell_type": "code",
      "source": [
        "np.array(class_names)[y_pred]"
      ],
      "metadata": {
        "colab": {
          "base_uri": "https://localhost:8080/"
        },
        "id": "iDOFdcxcVRat",
        "outputId": "567171cb-815c-410c-855d-a4acdc9fbf93"
      },
      "execution_count": 17,
      "outputs": [
        {
          "output_type": "execute_result",
          "data": {
            "text/plain": [
              "array(['Ankle boot', 'Pullover', 'Trouser'], dtype='<U11')"
            ]
          },
          "metadata": {},
          "execution_count": 17
        }
      ]
    },
    {
      "cell_type": "code",
      "source": [
        "y_new = y_test[:3]\n",
        "np.array(class_names)[y_new]"
      ],
      "metadata": {
        "colab": {
          "base_uri": "https://localhost:8080/"
        },
        "id": "hyMEWUgFVUY1",
        "outputId": "790cc857-237b-44b1-eb2f-79f96be0b7bf"
      },
      "execution_count": 18,
      "outputs": [
        {
          "output_type": "execute_result",
          "data": {
            "text/plain": [
              "array(['Ankle boot', 'Pullover', 'Trouser'], dtype='<U11')"
            ]
          },
          "metadata": {},
          "execution_count": 18
        }
      ]
    },
    {
      "cell_type": "code",
      "source": [
        "plt.figure(figsize=(7.2, 2.4))\n",
        "for index, image in enumerate(X_new):\n",
        "    plt.subplot(1, 3, index + 1)\n",
        "    plt.imshow(image, cmap=\"binary\", interpolation=\"nearest\")\n",
        "    plt.axis('off')\n",
        "    plt.title(class_names[y_test[index]], fontsize=12)\n",
        "plt.subplots_adjust(wspace=0.2, hspace=0.5)\n",
        "plt.show()"
      ],
      "metadata": {
        "colab": {
          "base_uri": "https://localhost:8080/",
          "height": 165
        },
        "id": "l5OLX-4qVYHE",
        "outputId": "4b2f03be-7989-408e-c0c4-a0304a09837e"
      },
      "execution_count": 19,
      "outputs": [
        {
          "output_type": "display_data",
          "data": {
            "image/png": "[encoded data removed]",
            "text/plain": [
              "<Figure size 518.4x172.8 with 3 Axes>"
            ]
          },
          "metadata": {
            "needs_background": "light"
          }
        }
      ]
    },
    {
      "cell_type": "code",
      "source": [
        "img_idx = 5555\n",
        "img = X_test[img_idx]\n",
        "plt.imshow(img, cmap=\"binary\", interpolation=\"nearest\")\n",
        "\n",
        "# need to add one more dimension and model takes in 3D tensors, not 2D\n",
        "print(img.shape)\n",
        "print(np.expand_dims(img, axis=0).shape)\n",
        "\n",
        "p = model.predict(np.expand_dims(img, axis=0))\n",
        "np.array(class_names)[np.argmax(p, axis=-1)]"
      ],
      "metadata": {
        "colab": {
          "base_uri": "https://localhost:8080/",
          "height": 317
        },
        "id": "GivAcRRaVcDE",
        "outputId": "d3600945-af2b-4891-a1ed-834c8e873ae2"
      },
      "execution_count": 20,
      "outputs": [
        {
          "output_type": "stream",
          "name": "stdout",
          "text": [
            "(28, 28)\n",
            "(1, 28, 28)\n"
          ]
        },
        {
          "output_type": "execute_result",
          "data": {
            "text/plain": [
              "array(['T-shirt/top'], dtype='<U11')"
            ]
          },
          "metadata": {},
          "execution_count": 20
        },
        {
          "output_type": "display_data",
          "data": {
            "image/png": "[encoded data removed]",
            "text/plain": [
              "<Figure size 432x288 with 1 Axes>"
            ]
          },
          "metadata": {
            "needs_background": "light"
          }
        }
      ]
    }
  ]
}